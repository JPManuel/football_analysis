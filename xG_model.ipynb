{
 "cells": [
  {
   "cell_type": "code",
   "execution_count": 259,
   "metadata": {},
   "outputs": [],
   "source": [
    "from importing_sb import *\n",
    "import numpy as np\n",
    "import matplotlib.pyplot as plt\n",
    "import pandas as pd\n",
    "import statsmodels.api as sm\n",
    "import statsmodels.formula.api as smf\n",
    "import sklearn.linear_model as skl_lm\n",
    "from sklearn.model_selection import train_test_split\n",
    "from sklearn.metrics import confusion_matrix, roc_curve, roc_auc_score\n",
    "\n",
    "%matplotlib inline\n",
    "\n",
    "data_dir = '/Users/jm533/Documents/GitHub/football_analytics/open-data/data/'\n",
    "\n",
    "comp_data = open_data(data_dir + 'competitions.json')\n",
    "la_liga_seasons = [i['season_id'] for i in comp_data if i['competition_id'] == 11]\n",
    "match_data = [sorted(open_data(data_dir + 'matches/11/{}.json'.format(i)), key = lambda k:k['match_date']) for i in la_liga_seasons]"
   ]
  },
  {
   "cell_type": "code",
   "execution_count": 2,
   "metadata": {},
   "outputs": [],
   "source": [
    "years = list(range(2015,2003,-1))\n",
    "match_id = {}\n",
    "for i in range(len(years)):\n",
    "    df = pd.DataFrame(match_data[i])\n",
    "    match_id[str(years[i])] = df['match_id'].values"
   ]
  },
  {
   "cell_type": "code",
   "execution_count": 3,
   "metadata": {},
   "outputs": [],
   "source": [
    "event_data = {}\n",
    "for year in years:\n",
    "    event_data[str(year)] = []\n",
    "    for match in match_id[str(year)]:\n",
    "        event_data[str(year)].append(open_data(data_dir + 'events/{}.json'.format(str(match))))"
   ]
  },
  {
   "cell_type": "code",
   "execution_count": 4,
   "metadata": {},
   "outputs": [],
   "source": [
    "shots = {}\n",
    "for year in years:\n",
    "    shots[str(year)] = [get_shots(match) for match in event_data[str(year)]]"
   ]
  },
  {
   "cell_type": "code",
   "execution_count": 5,
   "metadata": {},
   "outputs": [],
   "source": [
    "shots_all_list = []\n",
    "for year in years:\n",
    "    shots_all_list.append(pd.concat(shots[str(year)]))"
   ]
  },
  {
   "cell_type": "code",
   "execution_count": 107,
   "metadata": {},
   "outputs": [],
   "source": [
    "shots_all = pd.concat(shots_all_list)\n",
    "shots_all.reset_index(inplace=True)\n",
    "# There are so few times when a shot follows a dribble! Will remove from data set\n",
    "shots_all.drop(['follows_dribble'],axis=1,inplace=True)"
   ]
  },
  {
   "cell_type": "code",
   "execution_count": 108,
   "metadata": {},
   "outputs": [
    {
     "data": {
      "text/html": [
       "<div>\n",
       "<style scoped>\n",
       "    .dataframe tbody tr th:only-of-type {\n",
       "        vertical-align: middle;\n",
       "    }\n",
       "\n",
       "    .dataframe tbody tr th {\n",
       "        vertical-align: top;\n",
       "    }\n",
       "\n",
       "    .dataframe thead th {\n",
       "        text-align: right;\n",
       "    }\n",
       "</style>\n",
       "<table border=\"1\" class=\"dataframe\">\n",
       "  <thead>\n",
       "    <tr style=\"text-align: right;\">\n",
       "      <th></th>\n",
       "      <th>level_0</th>\n",
       "      <th>index</th>\n",
       "      <th>period</th>\n",
       "      <th>minute</th>\n",
       "      <th>second</th>\n",
       "      <th>type</th>\n",
       "      <th>pos_team</th>\n",
       "      <th>play_pattern</th>\n",
       "      <th>team</th>\n",
       "      <th>player</th>\n",
       "      <th>...</th>\n",
       "      <th>end_z</th>\n",
       "      <th>first_time</th>\n",
       "      <th>freeze_frame</th>\n",
       "      <th>open_goal</th>\n",
       "      <th>sb_xg</th>\n",
       "      <th>deflection</th>\n",
       "      <th>technique</th>\n",
       "      <th>body_part</th>\n",
       "      <th>shot_type</th>\n",
       "      <th>outcome</th>\n",
       "    </tr>\n",
       "  </thead>\n",
       "  <tbody>\n",
       "    <tr>\n",
       "      <td>0</td>\n",
       "      <td>0</td>\n",
       "      <td>741</td>\n",
       "      <td>1</td>\n",
       "      <td>14</td>\n",
       "      <td>17</td>\n",
       "      <td>Shot</td>\n",
       "      <td>Athletic Bilbao</td>\n",
       "      <td>From Free Kick</td>\n",
       "      <td>Athletic Bilbao</td>\n",
       "      <td>Sabin Merino Zuloaga</td>\n",
       "      <td>...</td>\n",
       "      <td>0.3</td>\n",
       "      <td>True</td>\n",
       "      <td>[{'location': [83.7, 36.7], 'player': {'id': 6...</td>\n",
       "      <td>False</td>\n",
       "      <td>0.017096</td>\n",
       "      <td>False</td>\n",
       "      <td>Normal</td>\n",
       "      <td>Right Foot</td>\n",
       "      <td>Open Play</td>\n",
       "      <td>Saved</td>\n",
       "    </tr>\n",
       "    <tr>\n",
       "      <td>1</td>\n",
       "      <td>1</td>\n",
       "      <td>988</td>\n",
       "      <td>1</td>\n",
       "      <td>20</td>\n",
       "      <td>40</td>\n",
       "      <td>Shot</td>\n",
       "      <td>Barcelona</td>\n",
       "      <td>From Throw In</td>\n",
       "      <td>Barcelona</td>\n",
       "      <td>Andrés Iniesta Luján</td>\n",
       "      <td>...</td>\n",
       "      <td>NaN</td>\n",
       "      <td>True</td>\n",
       "      <td>[{'location': [106.9, 40.1], 'player': {'id': ...</td>\n",
       "      <td>False</td>\n",
       "      <td>0.074108</td>\n",
       "      <td>False</td>\n",
       "      <td>Normal</td>\n",
       "      <td>Left Foot</td>\n",
       "      <td>Open Play</td>\n",
       "      <td>Blocked</td>\n",
       "    </tr>\n",
       "    <tr>\n",
       "      <td>2</td>\n",
       "      <td>2</td>\n",
       "      <td>1030</td>\n",
       "      <td>1</td>\n",
       "      <td>23</td>\n",
       "      <td>34</td>\n",
       "      <td>Shot</td>\n",
       "      <td>Athletic Bilbao</td>\n",
       "      <td>From Free Kick</td>\n",
       "      <td>Athletic Bilbao</td>\n",
       "      <td>Aritz Aduriz Zubeldia</td>\n",
       "      <td>...</td>\n",
       "      <td>0.7</td>\n",
       "      <td>False</td>\n",
       "      <td>[{'location': [92.2, 26.8], 'player': {'id': 6...</td>\n",
       "      <td>False</td>\n",
       "      <td>0.047723</td>\n",
       "      <td>False</td>\n",
       "      <td>Normal</td>\n",
       "      <td>Head</td>\n",
       "      <td>Open Play</td>\n",
       "      <td>Off T</td>\n",
       "    </tr>\n",
       "    <tr>\n",
       "      <td>3</td>\n",
       "      <td>3</td>\n",
       "      <td>1293</td>\n",
       "      <td>1</td>\n",
       "      <td>30</td>\n",
       "      <td>15</td>\n",
       "      <td>Shot</td>\n",
       "      <td>Barcelona</td>\n",
       "      <td>Other</td>\n",
       "      <td>Barcelona</td>\n",
       "      <td>Lionel Andrés Messi Cuccittini</td>\n",
       "      <td>...</td>\n",
       "      <td>0.2</td>\n",
       "      <td>False</td>\n",
       "      <td>None</td>\n",
       "      <td>False</td>\n",
       "      <td>0.760000</td>\n",
       "      <td>False</td>\n",
       "      <td>Normal</td>\n",
       "      <td>Left Foot</td>\n",
       "      <td>Penalty</td>\n",
       "      <td>Saved</td>\n",
       "    </tr>\n",
       "    <tr>\n",
       "      <td>4</td>\n",
       "      <td>4</td>\n",
       "      <td>1377</td>\n",
       "      <td>1</td>\n",
       "      <td>32</td>\n",
       "      <td>8</td>\n",
       "      <td>Shot</td>\n",
       "      <td>Barcelona</td>\n",
       "      <td>Regular Play</td>\n",
       "      <td>Barcelona</td>\n",
       "      <td>Andrés Iniesta Luján</td>\n",
       "      <td>...</td>\n",
       "      <td>4.2</td>\n",
       "      <td>False</td>\n",
       "      <td>[{'location': [73.9, 60.7], 'player': {'id': 6...</td>\n",
       "      <td>False</td>\n",
       "      <td>0.029790</td>\n",
       "      <td>False</td>\n",
       "      <td>Normal</td>\n",
       "      <td>Right Foot</td>\n",
       "      <td>Open Play</td>\n",
       "      <td>Off T</td>\n",
       "    </tr>\n",
       "    <tr>\n",
       "      <td>...</td>\n",
       "      <td>...</td>\n",
       "      <td>...</td>\n",
       "      <td>...</td>\n",
       "      <td>...</td>\n",
       "      <td>...</td>\n",
       "      <td>...</td>\n",
       "      <td>...</td>\n",
       "      <td>...</td>\n",
       "      <td>...</td>\n",
       "      <td>...</td>\n",
       "      <td>...</td>\n",
       "      <td>...</td>\n",
       "      <td>...</td>\n",
       "      <td>...</td>\n",
       "      <td>...</td>\n",
       "      <td>...</td>\n",
       "      <td>...</td>\n",
       "      <td>...</td>\n",
       "      <td>...</td>\n",
       "      <td>...</td>\n",
       "      <td>...</td>\n",
       "    </tr>\n",
       "    <tr>\n",
       "      <td>8507</td>\n",
       "      <td>21</td>\n",
       "      <td>2484</td>\n",
       "      <td>2</td>\n",
       "      <td>65</td>\n",
       "      <td>53</td>\n",
       "      <td>Shot</td>\n",
       "      <td>Barcelona</td>\n",
       "      <td>Regular Play</td>\n",
       "      <td>Barcelona</td>\n",
       "      <td>Samuel Eto\"o Fils</td>\n",
       "      <td>...</td>\n",
       "      <td>1.3</td>\n",
       "      <td>True</td>\n",
       "      <td>[{'location': [105.6, 38.2], 'player': {'id': ...</td>\n",
       "      <td>False</td>\n",
       "      <td>0.031566</td>\n",
       "      <td>False</td>\n",
       "      <td>Normal</td>\n",
       "      <td>Right Foot</td>\n",
       "      <td>Open Play</td>\n",
       "      <td>Goal</td>\n",
       "    </tr>\n",
       "    <tr>\n",
       "      <td>8508</td>\n",
       "      <td>22</td>\n",
       "      <td>3088</td>\n",
       "      <td>2</td>\n",
       "      <td>80</td>\n",
       "      <td>55</td>\n",
       "      <td>Shot</td>\n",
       "      <td>Barcelona</td>\n",
       "      <td>From Free Kick</td>\n",
       "      <td>Barcelona</td>\n",
       "      <td>Giovanni van Bronckhorst</td>\n",
       "      <td>...</td>\n",
       "      <td>1.9</td>\n",
       "      <td>False</td>\n",
       "      <td>[{'location': [119.8, 43.2], 'player': {'id': ...</td>\n",
       "      <td>False</td>\n",
       "      <td>0.007983</td>\n",
       "      <td>False</td>\n",
       "      <td>Normal</td>\n",
       "      <td>Left Foot</td>\n",
       "      <td>Free Kick</td>\n",
       "      <td>Saved</td>\n",
       "    </tr>\n",
       "    <tr>\n",
       "      <td>8509</td>\n",
       "      <td>23</td>\n",
       "      <td>3316</td>\n",
       "      <td>2</td>\n",
       "      <td>85</td>\n",
       "      <td>7</td>\n",
       "      <td>Shot</td>\n",
       "      <td>Barcelona</td>\n",
       "      <td>Regular Play</td>\n",
       "      <td>Barcelona</td>\n",
       "      <td>Ludovic Giuly</td>\n",
       "      <td>...</td>\n",
       "      <td>3.2</td>\n",
       "      <td>False</td>\n",
       "      <td>[{'location': [119.0, 42.2], 'player': {'id': ...</td>\n",
       "      <td>False</td>\n",
       "      <td>0.054056</td>\n",
       "      <td>False</td>\n",
       "      <td>Normal</td>\n",
       "      <td>Right Foot</td>\n",
       "      <td>Open Play</td>\n",
       "      <td>Off T</td>\n",
       "    </tr>\n",
       "    <tr>\n",
       "      <td>8510</td>\n",
       "      <td>24</td>\n",
       "      <td>3428</td>\n",
       "      <td>2</td>\n",
       "      <td>90</td>\n",
       "      <td>14</td>\n",
       "      <td>Shot</td>\n",
       "      <td>Barcelona</td>\n",
       "      <td>From Counter</td>\n",
       "      <td>Barcelona</td>\n",
       "      <td>Lionel Andrés Messi Cuccittini</td>\n",
       "      <td>...</td>\n",
       "      <td>0.6</td>\n",
       "      <td>True</td>\n",
       "      <td>[{'location': [113.0, 34.1], 'player': {'id': ...</td>\n",
       "      <td>False</td>\n",
       "      <td>0.148396</td>\n",
       "      <td>False</td>\n",
       "      <td>Lob</td>\n",
       "      <td>Left Foot</td>\n",
       "      <td>Open Play</td>\n",
       "      <td>Goal</td>\n",
       "    </tr>\n",
       "    <tr>\n",
       "      <td>8511</td>\n",
       "      <td>25</td>\n",
       "      <td>3464</td>\n",
       "      <td>2</td>\n",
       "      <td>92</td>\n",
       "      <td>29</td>\n",
       "      <td>Shot</td>\n",
       "      <td>Barcelona</td>\n",
       "      <td>From Corner</td>\n",
       "      <td>Barcelona</td>\n",
       "      <td>Thiago Motta</td>\n",
       "      <td>...</td>\n",
       "      <td>0.8</td>\n",
       "      <td>False</td>\n",
       "      <td>[{'location': [118.7, 40.4], 'player': {'id': ...</td>\n",
       "      <td>False</td>\n",
       "      <td>0.018428</td>\n",
       "      <td>False</td>\n",
       "      <td>Normal</td>\n",
       "      <td>Left Foot</td>\n",
       "      <td>Open Play</td>\n",
       "      <td>Off T</td>\n",
       "    </tr>\n",
       "  </tbody>\n",
       "</table>\n",
       "<p>8512 rows × 26 columns</p>\n",
       "</div>"
      ],
      "text/plain": [
       "      level_0  index  period  minute  second  type         pos_team  \\\n",
       "0           0    741       1      14      17  Shot  Athletic Bilbao   \n",
       "1           1    988       1      20      40  Shot        Barcelona   \n",
       "2           2   1030       1      23      34  Shot  Athletic Bilbao   \n",
       "3           3   1293       1      30      15  Shot        Barcelona   \n",
       "4           4   1377       1      32       8  Shot        Barcelona   \n",
       "...       ...    ...     ...     ...     ...   ...              ...   \n",
       "8507       21   2484       2      65      53  Shot        Barcelona   \n",
       "8508       22   3088       2      80      55  Shot        Barcelona   \n",
       "8509       23   3316       2      85       7  Shot        Barcelona   \n",
       "8510       24   3428       2      90      14  Shot        Barcelona   \n",
       "8511       25   3464       2      92      29  Shot        Barcelona   \n",
       "\n",
       "        play_pattern             team                          player  ...  \\\n",
       "0     From Free Kick  Athletic Bilbao            Sabin Merino Zuloaga  ...   \n",
       "1      From Throw In        Barcelona            Andrés Iniesta Luján  ...   \n",
       "2     From Free Kick  Athletic Bilbao           Aritz Aduriz Zubeldia  ...   \n",
       "3              Other        Barcelona  Lionel Andrés Messi Cuccittini  ...   \n",
       "4       Regular Play        Barcelona            Andrés Iniesta Luján  ...   \n",
       "...              ...              ...                             ...  ...   \n",
       "8507    Regular Play        Barcelona               Samuel Eto\"o Fils  ...   \n",
       "8508  From Free Kick        Barcelona        Giovanni van Bronckhorst  ...   \n",
       "8509    Regular Play        Barcelona                   Ludovic Giuly  ...   \n",
       "8510    From Counter        Barcelona  Lionel Andrés Messi Cuccittini  ...   \n",
       "8511     From Corner        Barcelona                    Thiago Motta  ...   \n",
       "\n",
       "      end_z  first_time                                       freeze_frame  \\\n",
       "0       0.3        True  [{'location': [83.7, 36.7], 'player': {'id': 6...   \n",
       "1       NaN        True  [{'location': [106.9, 40.1], 'player': {'id': ...   \n",
       "2       0.7       False  [{'location': [92.2, 26.8], 'player': {'id': 6...   \n",
       "3       0.2       False                                               None   \n",
       "4       4.2       False  [{'location': [73.9, 60.7], 'player': {'id': 6...   \n",
       "...     ...         ...                                                ...   \n",
       "8507    1.3        True  [{'location': [105.6, 38.2], 'player': {'id': ...   \n",
       "8508    1.9       False  [{'location': [119.8, 43.2], 'player': {'id': ...   \n",
       "8509    3.2       False  [{'location': [119.0, 42.2], 'player': {'id': ...   \n",
       "8510    0.6        True  [{'location': [113.0, 34.1], 'player': {'id': ...   \n",
       "8511    0.8       False  [{'location': [118.7, 40.4], 'player': {'id': ...   \n",
       "\n",
       "      open_goal     sb_xg  deflection  technique   body_part  shot_type  \\\n",
       "0         False  0.017096       False     Normal  Right Foot  Open Play   \n",
       "1         False  0.074108       False     Normal   Left Foot  Open Play   \n",
       "2         False  0.047723       False     Normal        Head  Open Play   \n",
       "3         False  0.760000       False     Normal   Left Foot    Penalty   \n",
       "4         False  0.029790       False     Normal  Right Foot  Open Play   \n",
       "...         ...       ...         ...        ...         ...        ...   \n",
       "8507      False  0.031566       False     Normal  Right Foot  Open Play   \n",
       "8508      False  0.007983       False     Normal   Left Foot  Free Kick   \n",
       "8509      False  0.054056       False     Normal  Right Foot  Open Play   \n",
       "8510      False  0.148396       False        Lob   Left Foot  Open Play   \n",
       "8511      False  0.018428       False     Normal   Left Foot  Open Play   \n",
       "\n",
       "      outcome  \n",
       "0       Saved  \n",
       "1     Blocked  \n",
       "2       Off T  \n",
       "3       Saved  \n",
       "4       Off T  \n",
       "...       ...  \n",
       "8507     Goal  \n",
       "8508    Saved  \n",
       "8509    Off T  \n",
       "8510     Goal  \n",
       "8511    Off T  \n",
       "\n",
       "[8512 rows x 26 columns]"
      ]
     },
     "execution_count": 108,
     "metadata": {},
     "output_type": "execute_result"
    }
   ],
   "source": [
    "shots_all"
   ]
  },
  {
   "cell_type": "code",
   "execution_count": 109,
   "metadata": {},
   "outputs": [
    {
     "data": {
      "text/plain": [
       "Index(['level_0', 'index', 'period', 'minute', 'second', 'type', 'pos_team',\n",
       "       'play_pattern', 'team', 'player', 'x', 'y', 'duration',\n",
       "       'under_pressure', 'end_x', 'end_y', 'end_z', 'first_time',\n",
       "       'freeze_frame', 'open_goal', 'sb_xg', 'deflection', 'technique',\n",
       "       'body_part', 'shot_type', 'outcome'],\n",
       "      dtype='object')"
      ]
     },
     "execution_count": 109,
     "metadata": {},
     "output_type": "execute_result"
    }
   ],
   "source": [
    "shots_all.columns"
   ]
  },
  {
   "cell_type": "code",
   "execution_count": 110,
   "metadata": {},
   "outputs": [
    {
     "name": "stdout",
     "output_type": "stream",
     "text": [
      "Regular Play      2878\n",
      "From Free Kick    2165\n",
      "From Throw In     1329\n",
      "From Corner       1155\n",
      "From Counter       344\n",
      "From Goal Kick     301\n",
      "Other              130\n",
      "From Kick Off      107\n",
      "From Keeper        103\n",
      "Name: play_pattern, dtype: int64\n"
     ]
    }
   ],
   "source": [
    "print(shots_all.play_pattern.value_counts())"
   ]
  },
  {
   "cell_type": "code",
   "execution_count": 168,
   "metadata": {},
   "outputs": [],
   "source": [
    "shots_all_simple = shots_all[(shots_all['open_goal'] == False)&(shots_all['deflection'] == False)\n",
    "                             &(shots_all['technique'] == 'Normal')\n",
    "                             &(shots_all['body_part'] != 'Head')&(shots_all['body_part'] != 'Other')\n",
    "                            &(shots_all['shot_type'] == 'Open Play')&(shots_all['outcome'] != 'Blocked')]\n",
    "\n",
    "shots_all_ref = shots_all[(shots_all['open_goal'] == False)&(shots_all['deflection'] == False)\n",
    "                             &(shots_all['technique'] == 'Normal')\n",
    "                             &(shots_all['body_part'] != 'Other')\n",
    "                            &(shots_all['shot_type'] != 'Corner')&(shots_all['outcome'] != 'Blocked')\n",
    "                             &(shots_all['play_pattern'] != 'From Goal Kick')\n",
    "                              &(shots_all['play_pattern'] != 'From Kick Off')\n",
    "                             &(shots_all['play_pattern'] != 'From Keeper')]\n",
    "#&(shots_all['play_pattern'] != 'Other')&(shots_all['play_pattern'] != 'From Goal Kick')\n",
    "                             #&(shots_all['play_pattern'] != 'From Kick Off')&(shots_all['play_pattern'] != 'From Keeper')"
   ]
  },
  {
   "cell_type": "code",
   "execution_count": 156,
   "metadata": {},
   "outputs": [
    {
     "data": {
      "text/plain": [
       "Regular Play      1792\n",
       "From Free Kick    1309\n",
       "From Throw In      791\n",
       "From Corner        630\n",
       "From Counter       234\n",
       "From Goal Kick     177\n",
       "Other              124\n",
       "From Kick Off       63\n",
       "From Keeper         63\n",
       "Name: play_pattern, dtype: int64"
      ]
     },
     "execution_count": 156,
     "metadata": {},
     "output_type": "execute_result"
    }
   ],
   "source": [
    "shots_all_ref.play_pattern.value_counts()"
   ]
  },
  {
   "cell_type": "code",
   "execution_count": 121,
   "metadata": {},
   "outputs": [],
   "source": [
    "x2 = 120\n",
    "y2 = 40\n",
    "x1 = shots_all_simple['x'].values\n",
    "y1 = shots_all_simple['y'].values\n",
    "\n",
    "d = np.sqrt((x2-x1) ** 2 + (y2-y1) ** 2)\n",
    "ang = np.arctan(np.absolute((y2-y1))/np.absolute((x2-x1)))*(180/np.pi)"
   ]
  },
  {
   "cell_type": "code",
   "execution_count": 122,
   "metadata": {},
   "outputs": [],
   "source": [
    "shots_model = pd.DataFrame()\n",
    "shots_model['isGoal'] = (shots_all_simple['outcome'] == 'Goal').astype('int').reset_index(drop=True)\n",
    "shots_model['dist'] = d\n",
    "shots_model['angle'] = ang"
   ]
  },
  {
   "cell_type": "code",
   "execution_count": 123,
   "metadata": {},
   "outputs": [
    {
     "name": "stdout",
     "output_type": "stream",
     "text": [
      "Optimization terminated successfully.\n",
      "         Current function value: 0.384703\n",
      "         Iterations 6\n",
      "                          Results: Logit\n",
      "==================================================================\n",
      "Model:              Logit            Pseudo R-squared: 0.136      \n",
      "Dependent Variable: y                AIC:              2856.9550  \n",
      "Date:               2020-02-24 20:52 BIC:              2869.3915  \n",
      "No. Observations:   3708             Log-Likelihood:   -1426.5    \n",
      "Df Model:           1                LL-Null:          -1651.2    \n",
      "Df Residuals:       3706             LLR p-value:      9.2701e-100\n",
      "Converged:          1.0000           Scale:            1.0000     \n",
      "No. Iterations:     6.0000                                        \n",
      "--------------------------------------------------------------------\n",
      "           Coef.    Std.Err.      z       P>|z|     [0.025    0.975]\n",
      "--------------------------------------------------------------------\n",
      "dist      -0.0908     0.0040   -22.5170   0.0000   -0.0988   -0.0829\n",
      "angle     -0.0025     0.0019    -1.3231   0.1858   -0.0062    0.0012\n",
      "==================================================================\n",
      "\n"
     ]
    }
   ],
   "source": [
    "X = shots_model[['dist','angle']]\n",
    "y = shots_model['isGoal'].values\n",
    "model = sm.Logit(y,X)\n",
    "results = model.fit()\n",
    "print(results.summary2())"
   ]
  },
  {
   "cell_type": "code",
   "execution_count": 194,
   "metadata": {},
   "outputs": [],
   "source": [
    "x2 = 120\n",
    "y2 = 40\n",
    "x1 = shots_all_ref['x'].values\n",
    "y1 = shots_all_ref['y'].values\n",
    "\n",
    "d = np.sqrt((x2-x1) ** 2 + (y2-y1) ** 2)\n",
    "ang = np.arctan(np.absolute((y2-y1))/np.absolute((x2-x1)))*(180/np.pi)"
   ]
  },
  {
   "cell_type": "code",
   "execution_count": 203,
   "metadata": {},
   "outputs": [],
   "source": [
    "shots_model = pd.DataFrame()\n",
    "shots_model['isGoal'] = (shots_all_ref['outcome'] == 'Goal').astype('int').reset_index(drop=True)\n",
    "shots_model['dist'] = d\n",
    "shots_model['angle'] = ang\n",
    "shots_model['isHead'] = (shots_all_ref['body_part'] == 'Head').astype('int').reset_index(drop=True)\n",
    "shots_model['isFirstTime'] = shots_all_ref['first_time'].astype('int').reset_index(drop=True)\n",
    "shots_model['isUnderPress'] = shots_all_ref['under_pressure'].astype('int').reset_index(drop=True)\n",
    "shots_model['isFK'] = (shots_all_ref['shot_type'] == 'Free Kick').astype('int').reset_index(drop=True)\n",
    "shots_model['isPen'] = (shots_all_ref['shot_type'] == 'Penalty').astype('int').reset_index(drop=True)\n",
    "#shots_model['isFromReg'] = (shots_all_ref['play_pattern'] == 'Regular Play').astype('int').reset_index(drop=True)\n",
    "#shots_model['isFromFK'] = (shots_all_ref['play_pattern'] == 'From Free Kick').astype('int').reset_index(drop=True)\n",
    "#shots_model['isFromThrow'] = (shots_all_ref['play_pattern'] == 'From Throw In').astype('int').reset_index(drop=True)\n",
    "shots_model['isFromCorner'] = (shots_all_ref['play_pattern'] == 'From Corner').astype('int').reset_index(drop=True)\n",
    "shots_model['isFromCounter'] = (shots_all_ref['play_pattern'] == 'From Counter').astype('int').reset_index(drop=True)"
   ]
  },
  {
   "cell_type": "code",
   "execution_count": 204,
   "metadata": {},
   "outputs": [
    {
     "name": "stdout",
     "output_type": "stream",
     "text": [
      "Optimization terminated successfully.\n",
      "         Current function value: 0.372383\n",
      "         Iterations 7\n",
      "                          Results: Logit\n",
      "==================================================================\n",
      "Model:              Logit            Pseudo R-squared: 0.166      \n",
      "Dependent Variable: y                AIC:              3652.4572  \n",
      "Date:               2020-02-24 21:14 BIC:              3710.8933  \n",
      "No. Observations:   4880             Log-Likelihood:   -1817.2    \n",
      "Df Model:           8                LL-Null:          -2178.8    \n",
      "Df Residuals:       4871             LLR p-value:      7.6171e-151\n",
      "Converged:          1.0000           Scale:            1.0000     \n",
      "No. Iterations:     7.0000                                        \n",
      "------------------------------------------------------------------\n",
      "                   Coef.  Std.Err.    z     P>|z|   [0.025  0.975]\n",
      "------------------------------------------------------------------\n",
      "dist              -0.0936   0.0043 -21.8698 0.0000 -0.1020 -0.0852\n",
      "angle             -0.0055   0.0019  -2.9021 0.0037 -0.0092 -0.0018\n",
      "isHead            -0.7726   0.1314  -5.8787 0.0000 -1.0301 -0.5150\n",
      "isFirstTime        0.5506   0.0923   5.9671 0.0000  0.3697  0.7314\n",
      "isUnderPress      -0.2378   0.1198  -1.9848 0.0472 -0.4725 -0.0030\n",
      "isFK               0.6872   0.1873   3.6700 0.0002  0.3202  1.0542\n",
      "isPen              2.3694   0.2294  10.3276 0.0000  1.9198  2.8191\n",
      "isFromCorner      -0.4258   0.1604  -2.6552 0.0079 -0.7401 -0.1115\n",
      "isFromCounter      0.4563   0.1675   2.7242 0.0064  0.1280  0.7846\n",
      "==================================================================\n",
      "\n"
     ]
    }
   ],
   "source": [
    "X = shots_model[['dist','angle','isHead','isFirstTime','isUnderPress','isFK','isPen','isFromCorner','isFromCounter']]\n",
    "y = shots_model['isGoal'].values\n",
    "model = sm.Logit(y,X)\n",
    "results = model.fit()\n",
    "print(results.summary2())"
   ]
  },
  {
   "cell_type": "code",
   "execution_count": 205,
   "metadata": {},
   "outputs": [
    {
     "data": {
      "text/html": [
       "<div>\n",
       "<style scoped>\n",
       "    .dataframe tbody tr th:only-of-type {\n",
       "        vertical-align: middle;\n",
       "    }\n",
       "\n",
       "    .dataframe tbody tr th {\n",
       "        vertical-align: top;\n",
       "    }\n",
       "\n",
       "    .dataframe thead th {\n",
       "        text-align: right;\n",
       "    }\n",
       "</style>\n",
       "<table border=\"1\" class=\"dataframe\">\n",
       "  <thead>\n",
       "    <tr style=\"text-align: right;\">\n",
       "      <th></th>\n",
       "      <th>variables</th>\n",
       "      <th>VIF</th>\n",
       "    </tr>\n",
       "  </thead>\n",
       "  <tbody>\n",
       "    <tr>\n",
       "      <td>0</td>\n",
       "      <td>dist</td>\n",
       "      <td>1.691481</td>\n",
       "    </tr>\n",
       "    <tr>\n",
       "      <td>1</td>\n",
       "      <td>angle</td>\n",
       "      <td>1.189476</td>\n",
       "    </tr>\n",
       "    <tr>\n",
       "      <td>2</td>\n",
       "      <td>isHead</td>\n",
       "      <td>1.954213</td>\n",
       "    </tr>\n",
       "    <tr>\n",
       "      <td>3</td>\n",
       "      <td>isFirstTime</td>\n",
       "      <td>1.213349</td>\n",
       "    </tr>\n",
       "    <tr>\n",
       "      <td>4</td>\n",
       "      <td>isUnderPress</td>\n",
       "      <td>1.154796</td>\n",
       "    </tr>\n",
       "    <tr>\n",
       "      <td>5</td>\n",
       "      <td>isFK</td>\n",
       "      <td>1.189280</td>\n",
       "    </tr>\n",
       "    <tr>\n",
       "      <td>6</td>\n",
       "      <td>isPen</td>\n",
       "      <td>1.178720</td>\n",
       "    </tr>\n",
       "    <tr>\n",
       "      <td>7</td>\n",
       "      <td>isFromCorner</td>\n",
       "      <td>1.234182</td>\n",
       "    </tr>\n",
       "    <tr>\n",
       "      <td>8</td>\n",
       "      <td>isFromCounter</td>\n",
       "      <td>1.034382</td>\n",
       "    </tr>\n",
       "    <tr>\n",
       "      <td>9</td>\n",
       "      <td>intercept</td>\n",
       "      <td>19.179705</td>\n",
       "    </tr>\n",
       "  </tbody>\n",
       "</table>\n",
       "</div>"
      ],
      "text/plain": [
       "       variables        VIF\n",
       "0           dist   1.691481\n",
       "1          angle   1.189476\n",
       "2         isHead   1.954213\n",
       "3    isFirstTime   1.213349\n",
       "4   isUnderPress   1.154796\n",
       "5           isFK   1.189280\n",
       "6          isPen   1.178720\n",
       "7   isFromCorner   1.234182\n",
       "8  isFromCounter   1.034382\n",
       "9      intercept  19.179705"
      ]
     },
     "execution_count": 205,
     "metadata": {},
     "output_type": "execute_result"
    }
   ],
   "source": [
    "from statsmodels.stats.outliers_influence import variance_inflation_factor\n",
    "X['intercept'] = 1\n",
    "vif = pd.DataFrame()\n",
    "vif['variables'] = X.columns\n",
    "vif['VIF'] = [variance_inflation_factor(X.values, i) for i in range(X.shape[1])]\n",
    "vif"
   ]
  },
  {
   "cell_type": "code",
   "execution_count": 206,
   "metadata": {},
   "outputs": [],
   "source": [
    "skl_lm.LogisticRegression?"
   ]
  },
  {
   "cell_type": "code",
   "execution_count": 207,
   "metadata": {},
   "outputs": [],
   "source": [
    "skl_lm.LinearRegression?\n",
    "result = reg.fit(adv.TV.values.reshape(-1,1), adv.Sales)"
   ]
  },
  {
   "cell_type": "code",
   "execution_count": 235,
   "metadata": {},
   "outputs": [
    {
     "name": "stderr",
     "output_type": "stream",
     "text": [
      "/Users/jm533/anaconda3/lib/python3.6/site-packages/sklearn/linear_model/logistic.py:432: FutureWarning: Default solver will be changed to 'lbfgs' in 0.22. Specify a solver to silence this warning.\n",
      "  FutureWarning)\n"
     ]
    },
    {
     "data": {
      "text/plain": [
       "0.855191256830601"
      ]
     },
     "execution_count": 235,
     "metadata": {},
     "output_type": "execute_result"
    }
   ],
   "source": [
    "reg = skl_lm.LogisticRegression()\n",
    "#test = reg.fit(X[['dist','angle']], y)\n",
    "X_train, X_test, y_train, y_test = train_test_split(X, y, test_size=0.3, random_state=42)\n",
    "reg.fit(X_train, y_train)\n",
    "reg.score(X_test, y_test)"
   ]
  },
  {
   "cell_type": "code",
   "execution_count": 244,
   "metadata": {},
   "outputs": [
    {
     "name": "stdout",
     "output_type": "stream",
     "text": [
      "[[1188   28]\n",
      " [ 184   64]]\n"
     ]
    }
   ],
   "source": [
    "prediction = reg.predict(X_test)\n",
    "conf_matrix = confusion_matrix(y_test, prediction)\n",
    "print(conf_matrix)"
   ]
  },
  {
   "cell_type": "code",
   "execution_count": 249,
   "metadata": {},
   "outputs": [],
   "source": [
    "pred = reg.predict_proba(X_test)[:,1]"
   ]
  },
  {
   "cell_type": "code",
   "execution_count": 252,
   "metadata": {},
   "outputs": [],
   "source": [
    "fpr, tpr, _ = roc_curve(y_test, pred)"
   ]
  },
  {
   "cell_type": "code",
   "execution_count": 258,
   "metadata": {},
   "outputs": [
    {
     "data": {
      "image/png": "[encoded data removed]",
      "text/plain": [
       "<Figure size 432x288 with 1 Axes>"
      ]
     },
     "metadata": {
      "needs_background": "light"
     },
     "output_type": "display_data"
    }
   ],
   "source": [
    "plt.plot([0,1],[0,1],'k')\n",
    "plt.plot(fpr,tpr)\n",
    "plt.show()"
   ]
  },
  {
   "cell_type": "code",
   "execution_count": 264,
   "metadata": {},
   "outputs": [
    {
     "name": "stdout",
     "output_type": "stream",
     "text": [
      "1464\n",
      "1464\n"
     ]
    }
   ],
   "source": [
    "print(len(y_test))\n",
    "print(len(pred))"
   ]
  },
  {
   "cell_type": "code",
   "execution_count": 265,
   "metadata": {},
   "outputs": [
    {
     "data": {
      "text/plain": [
       "0.7931411820882852"
      ]
     },
     "execution_count": 265,
     "metadata": {},
     "output_type": "execute_result"
    }
   ],
   "source": [
    "roc_auc_score(y_test,pred)"
   ]
  },
  {
   "cell_type": "code",
   "execution_count": null,
   "metadata": {},
   "outputs": [],
   "source": []
  }
 ],
 "metadata": {
  "kernelspec": {
   "display_name": "Python 3",
   "language": "python",
   "name": "python3"
  },
  "language_info": {
   "codemirror_mode": {
    "name": "ipython",
    "version": 3
   },
   "file_extension": ".py",
   "mimetype": "text/x-python",
   "name": "python",
   "nbconvert_exporter": "python",
   "pygments_lexer": "ipython3",
   "version": "3.6.9"
  }
 },
 "nbformat": 4,
 "nbformat_minor": 2
}
