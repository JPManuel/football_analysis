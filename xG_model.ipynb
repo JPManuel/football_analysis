{
 "cells": [
  {
   "cell_type": "markdown",
   "metadata": {},
   "source": [
    "# Making an xG Model"
   ]
  },
  {
   "cell_type": "markdown",
   "metadata": {},
   "source": [
    "Using logistic regression to create an xG model using the Statsbomb open data.\n",
    "\n",
    "Start by importing necessary packages and some data."
   ]
  },
  {
   "cell_type": "code",
   "execution_count": 259,
   "metadata": {},
   "outputs": [],
   "source": [
    "from importing_sb import *\n",
    "import numpy as np\n",
    "import matplotlib.pyplot as plt\n",
    "import pandas as pd\n",
    "import statsmodels.api as sm\n",
    "import statsmodels.formula.api as smf\n",
    "import sklearn.linear_model as skl_lm\n",
    "from sklearn.model_selection import train_test_split\n",
    "from sklearn.metrics import confusion_matrix, roc_curve, roc_auc_score\n",
    "\n",
    "%matplotlib inline\n",
    "\n",
    "data_dir = '/Users/jm533/Documents/GitHub/football_analytics/open-data/data/'\n",
    "\n",
    "comp_data = open_data(data_dir + 'competitions.json')\n",
    "la_liga_seasons = [i['season_id'] for i in comp_data if i['competition_id'] == 11]\n",
    "match_data = [sorted(open_data(data_dir + 'matches/11/{}.json'.format(i)), key = lambda k:k['match_date']) for i in la_liga_seasons]"
   ]
  },
  {
   "cell_type": "markdown",
   "metadata": {},
   "source": [
    "Getting the event data for all La Liga seasons."
   ]
  },
  {
   "cell_type": "code",
   "execution_count": 2,
   "metadata": {},
   "outputs": [],
   "source": [
    "years = list(range(2015,2003,-1))\n",
    "match_id = {}\n",
    "for i in range(len(years)):\n",
    "    df = pd.DataFrame(match_data[i])\n",
    "    match_id[str(years[i])] = df['match_id'].values"
   ]
  },
  {
   "cell_type": "code",
   "execution_count": 3,
   "metadata": {},
   "outputs": [],
   "source": [
    "event_data = {}\n",
    "for year in years:\n",
    "    event_data[str(year)] = []\n",
    "    for match in match_id[str(year)]:\n",
    "        event_data[str(year)].append(open_data(data_dir + 'events/{}.json'.format(str(match))))"
   ]
  },
  {
   "cell_type": "markdown",
   "metadata": {},
   "source": [
    "Using my get_shots function to get shot DataFrames."
   ]
  },
  {
   "cell_type": "code",
   "execution_count": 4,
   "metadata": {},
   "outputs": [],
   "source": [
    "shots = {}\n",
    "for year in years:\n",
    "    shots[str(year)] = [get_shots(match) for match in event_data[str(year)]]"
   ]
  },
  {
   "cell_type": "code",
   "execution_count": 5,
   "metadata": {},
   "outputs": [],
   "source": [
    "shots_all_list = []\n",
    "for year in years:\n",
    "    shots_all_list.append(pd.concat(shots[str(year)]))"
   ]
  },
  {
   "cell_type": "markdown",
   "metadata": {},
   "source": [
    "Make a single DataFrame for all shots for all La Liga seasons."
   ]
  },
  {
   "cell_type": "code",
   "execution_count": 107,
   "metadata": {},
   "outputs": [],
   "source": [
    "shots_all = pd.concat(shots_all_list)\n",
    "shots_all.reset_index(inplace=True)\n",
    "# There are so few times when a shot follows a dribble! Will remove from data set\n",
    "shots_all.drop(['follows_dribble'],axis=1,inplace=True)"
   ]
  },
  {
   "cell_type": "markdown",
   "metadata": {},
   "source": [
    "## Preparing data for xG model"
   ]
  },
  {
   "cell_type": "markdown",
   "metadata": {},
   "source": [
    "Sort the shot data such as removing deflections and open goals, only keeping 'Normal' technique, etc."
   ]
  },
  {
   "cell_type": "code",
   "execution_count": 266,
   "metadata": {},
   "outputs": [],
   "source": [
    "shots_all_simple = shots_all[(shots_all['open_goal'] == False)&(shots_all['deflection'] == False)\n",
    "                             &(shots_all['technique'] == 'Normal')\n",
    "                             &(shots_all['body_part'] != 'Head')&(shots_all['body_part'] != 'Other')\n",
    "                             &(shots_all['shot_type'] == 'Open Play')&(shots_all['outcome'] != 'Blocked')]\n",
    "\n",
    "shots_all_ref = shots_all[(shots_all['open_goal'] == False)&(shots_all['deflection'] == False)\n",
    "                             &(shots_all['technique'] == 'Normal')\n",
    "                             &(shots_all['body_part'] != 'Other')\n",
    "                             &(shots_all['shot_type'] != 'Corner')&(shots_all['outcome'] != 'Blocked')\n",
    "                             &(shots_all['play_pattern'] != 'From Goal Kick')\n",
    "                             &(shots_all['play_pattern'] != 'From Kick Off')\n",
    "                             &(shots_all['play_pattern'] != 'From Keeper')]"
   ]
  },
  {
   "cell_type": "markdown",
   "metadata": {},
   "source": [
    "Convert x and y coords into distance from goal and angle to goal. For simplicity I have just so far taken the position of the goal to be the centre, that is x=120, y=40."
   ]
  },
  {
   "cell_type": "code",
   "execution_count": 271,
   "metadata": {},
   "outputs": [],
   "source": [
    "x2 = 120\n",
    "y2 = 40\n",
    "x1 = shots_all_ref['x'].values\n",
    "y1 = shots_all_ref['y'].values\n",
    "\n",
    "d = np.sqrt((x2-x1) ** 2 + (y2-y1) ** 2)\n",
    "ang = np.arctan(np.absolute((y2-y1))/np.absolute((x2-x1)))*(180/np.pi)"
   ]
  },
  {
   "cell_type": "markdown",
   "metadata": {},
   "source": [
    "Create the model DataFrame which converts False and True to 0 and 1 and collects all the predictors considered."
   ]
  },
  {
   "cell_type": "code",
   "execution_count": 368,
   "metadata": {},
   "outputs": [],
   "source": [
    "shots_model = pd.DataFrame()\n",
    "shots_model['isGoal'] = (shots_all_ref['outcome'] == 'Goal').astype('int').reset_index(drop=True)\n",
    "shots_model['dist'] = d\n",
    "shots_model['angle'] = ang\n",
    "shots_model['isHead'] = (shots_all_ref['body_part'] == 'Head').astype('int').reset_index(drop=True)\n",
    "shots_model['isFirstTime'] = shots_all_ref['first_time'].astype('int').reset_index(drop=True)\n",
    "shots_model['isUnderPress'] = shots_all_ref['under_pressure'].astype('int').reset_index(drop=True)\n",
    "shots_model['isFK'] = (shots_all_ref['shot_type'] == 'Free Kick').astype('int').reset_index(drop=True)\n",
    "shots_model['isPen'] = (shots_all_ref['shot_type'] == 'Penalty').astype('int').reset_index(drop=True)\n",
    "#shots_model['isFromReg'] = (shots_all_ref['play_pattern'] == 'Regular Play').astype('int').reset_index(drop=True)\n",
    "#shots_model['isFromFK'] = (shots_all_ref['play_pattern'] == 'From Free Kick').astype('int').reset_index(drop=True)\n",
    "#shots_model['isFromThrow'] = (shots_all_ref['play_pattern'] == 'From Throw In').astype('int').reset_index(drop=True)\n",
    "shots_model['isFromCorner'] = (shots_all_ref['play_pattern'] == 'From Corner').astype('int').reset_index(drop=True)\n",
    "shots_model['isFromCounter'] = (shots_all_ref['play_pattern'] == 'From Counter').astype('int').reset_index(drop=True)"
   ]
  },
  {
   "cell_type": "markdown",
   "metadata": {},
   "source": [
    "Use the statsmodels package to perform logistic regression to find the xG model."
   ]
  },
  {
   "cell_type": "code",
   "execution_count": 369,
   "metadata": {},
   "outputs": [
    {
     "name": "stdout",
     "output_type": "stream",
     "text": [
      "Optimization terminated successfully.\n",
      "         Current function value: 0.372383\n",
      "         Iterations 7\n",
      "                          Results: Logit\n",
      "==================================================================\n",
      "Model:              Logit            Pseudo R-squared: 0.166      \n",
      "Dependent Variable: y                AIC:              3652.4572  \n",
      "Date:               2020-02-25 10:43 BIC:              3710.8933  \n",
      "No. Observations:   4880             Log-Likelihood:   -1817.2    \n",
      "Df Model:           8                LL-Null:          -2178.8    \n",
      "Df Residuals:       4871             LLR p-value:      7.6171e-151\n",
      "Converged:          1.0000           Scale:            1.0000     \n",
      "No. Iterations:     7.0000                                        \n",
      "------------------------------------------------------------------\n",
      "                   Coef.  Std.Err.    z     P>|z|   [0.025  0.975]\n",
      "------------------------------------------------------------------\n",
      "dist              -0.0936   0.0043 -21.8698 0.0000 -0.1020 -0.0852\n",
      "angle             -0.0055   0.0019  -2.9021 0.0037 -0.0092 -0.0018\n",
      "isHead            -0.7726   0.1314  -5.8787 0.0000 -1.0301 -0.5150\n",
      "isFirstTime        0.5506   0.0923   5.9671 0.0000  0.3697  0.7314\n",
      "isUnderPress      -0.2378   0.1198  -1.9848 0.0472 -0.4725 -0.0030\n",
      "isFK               0.6872   0.1873   3.6700 0.0002  0.3202  1.0542\n",
      "isPen              2.3694   0.2294  10.3276 0.0000  1.9198  2.8191\n",
      "isFromCorner      -0.4258   0.1604  -2.6552 0.0079 -0.7401 -0.1115\n",
      "isFromCounter      0.4563   0.1675   2.7242 0.0064  0.1280  0.7846\n",
      "==================================================================\n",
      "\n"
     ]
    }
   ],
   "source": [
    "X = shots_model[['dist','angle','isHead','isFirstTime','isUnderPress','isFK','isPen','isFromCorner','isFromCounter']]\n",
    "y = shots_model['isGoal'].values\n",
    "model = sm.Logit(y,X)\n",
    "results = model.fit()\n",
    "print(results.summary2())"
   ]
  },
  {
   "cell_type": "markdown",
   "metadata": {},
   "source": [
    "All the coefficients have low p-values (although isUnderPress is very close to the boundary) and their signs make logical sense.\n",
    "\n",
    "Calculate the variance inflation factor (VIF) to look for any collinearity in the coeffs. All seems fine."
   ]
  },
  {
   "cell_type": "code",
   "execution_count": 274,
   "metadata": {},
   "outputs": [
    {
     "data": {
      "text/html": [
       "<div>\n",
       "<style scoped>\n",
       "    .dataframe tbody tr th:only-of-type {\n",
       "        vertical-align: middle;\n",
       "    }\n",
       "\n",
       "    .dataframe tbody tr th {\n",
       "        vertical-align: top;\n",
       "    }\n",
       "\n",
       "    .dataframe thead th {\n",
       "        text-align: right;\n",
       "    }\n",
       "</style>\n",
       "<table border=\"1\" class=\"dataframe\">\n",
       "  <thead>\n",
       "    <tr style=\"text-align: right;\">\n",
       "      <th></th>\n",
       "      <th>variables</th>\n",
       "      <th>VIF</th>\n",
       "    </tr>\n",
       "  </thead>\n",
       "  <tbody>\n",
       "    <tr>\n",
       "      <td>0</td>\n",
       "      <td>dist</td>\n",
       "      <td>1.691481</td>\n",
       "    </tr>\n",
       "    <tr>\n",
       "      <td>1</td>\n",
       "      <td>angle</td>\n",
       "      <td>1.189476</td>\n",
       "    </tr>\n",
       "    <tr>\n",
       "      <td>2</td>\n",
       "      <td>isHead</td>\n",
       "      <td>1.954213</td>\n",
       "    </tr>\n",
       "    <tr>\n",
       "      <td>3</td>\n",
       "      <td>isFirstTime</td>\n",
       "      <td>1.213349</td>\n",
       "    </tr>\n",
       "    <tr>\n",
       "      <td>4</td>\n",
       "      <td>isUnderPress</td>\n",
       "      <td>1.154796</td>\n",
       "    </tr>\n",
       "    <tr>\n",
       "      <td>5</td>\n",
       "      <td>isFK</td>\n",
       "      <td>1.189280</td>\n",
       "    </tr>\n",
       "    <tr>\n",
       "      <td>6</td>\n",
       "      <td>isPen</td>\n",
       "      <td>1.178720</td>\n",
       "    </tr>\n",
       "    <tr>\n",
       "      <td>7</td>\n",
       "      <td>isFromCorner</td>\n",
       "      <td>1.234182</td>\n",
       "    </tr>\n",
       "    <tr>\n",
       "      <td>8</td>\n",
       "      <td>isFromCounter</td>\n",
       "      <td>1.034382</td>\n",
       "    </tr>\n",
       "    <tr>\n",
       "      <td>9</td>\n",
       "      <td>intercept</td>\n",
       "      <td>19.179705</td>\n",
       "    </tr>\n",
       "  </tbody>\n",
       "</table>\n",
       "</div>"
      ],
      "text/plain": [
       "       variables        VIF\n",
       "0           dist   1.691481\n",
       "1          angle   1.189476\n",
       "2         isHead   1.954213\n",
       "3    isFirstTime   1.213349\n",
       "4   isUnderPress   1.154796\n",
       "5           isFK   1.189280\n",
       "6          isPen   1.178720\n",
       "7   isFromCorner   1.234182\n",
       "8  isFromCounter   1.034382\n",
       "9      intercept  19.179705"
      ]
     },
     "execution_count": 274,
     "metadata": {},
     "output_type": "execute_result"
    }
   ],
   "source": [
    "from statsmodels.stats.outliers_influence import variance_inflation_factor\n",
    "X['intercept'] = 1 # Have to add an intercept column\n",
    "vif = pd.DataFrame()\n",
    "vif['variables'] = X.columns\n",
    "vif['VIF'] = [variance_inflation_factor(X.values, i) for i in range(X.shape[1])]\n",
    "vif"
   ]
  },
  {
   "cell_type": "markdown",
   "metadata": {},
   "source": [
    "Now use sklearn to perform logistic regression on a train (70%) and test (30%) data set, creating the xG model."
   ]
  },
  {
   "cell_type": "code",
   "execution_count": 370,
   "metadata": {},
   "outputs": [
    {
     "name": "stderr",
     "output_type": "stream",
     "text": [
      "/Users/jm533/anaconda3/lib/python3.6/site-packages/sklearn/linear_model/logistic.py:432: FutureWarning: Default solver will be changed to 'lbfgs' in 0.22. Specify a solver to silence this warning.\n",
      "  FutureWarning)\n"
     ]
    },
    {
     "data": {
      "text/plain": [
       "0.855191256830601"
      ]
     },
     "execution_count": 370,
     "metadata": {},
     "output_type": "execute_result"
    }
   ],
   "source": [
    "reg = skl_lm.LogisticRegression()\n",
    "X_train, X_test, y_train, y_test = train_test_split(X, y, test_size=0.3, random_state=42)\n",
    "reg.fit(X_train, y_train)\n",
    "reg.score(X_test, y_test)"
   ]
  },
  {
   "cell_type": "markdown",
   "metadata": {},
   "source": [
    "The confusion matrix showing the predictions of the model."
   ]
  },
  {
   "cell_type": "code",
   "execution_count": 371,
   "metadata": {},
   "outputs": [
    {
     "name": "stdout",
     "output_type": "stream",
     "text": [
      "[[1189   27]\n",
      " [ 185   63]]\n"
     ]
    }
   ],
   "source": [
    "pred = reg.predict(X_test)\n",
    "conf_matrix = confusion_matrix(y_test, pred)\n",
    "print(conf_matrix)"
   ]
  },
  {
   "cell_type": "markdown",
   "metadata": {},
   "source": [
    "Finding ROC curce and the corresponding AUC score to assess the classifier."
   ]
  },
  {
   "cell_type": "code",
   "execution_count": 372,
   "metadata": {},
   "outputs": [
    {
     "name": "stdout",
     "output_type": "stream",
     "text": [
      "0.7931080220713073\n"
     ]
    }
   ],
   "source": [
    "pred_prob = reg.predict_proba(X_test)[:,1]\n",
    "fpr, tpr, thresholds = roc_curve(y_test, pred_prob)\n",
    "auc_score = roc_auc_score(y_test,pred_prob)\n",
    "print(auc_score)"
   ]
  },
  {
   "cell_type": "code",
   "execution_count": 373,
   "metadata": {},
   "outputs": [
    {
     "data": {
      "image/png": "[encoded data removed]",
      "text/plain": [
       "<Figure size 432x432 with 1 Axes>"
      ]
     },
     "metadata": {
      "needs_background": "light"
     },
     "output_type": "display_data"
    }
   ],
   "source": [
    "fig, ax = plt.subplots(figsize=(6,6))\n",
    "\n",
    "ax.plot([0,1],[0,1],'k--')\n",
    "ax.plot(fpr,tpr)\n",
    "\n",
    "ax.set(xlim=(-0.01,1.01),ylim=(-0.01,1.01),xlabel='False Positive Rate',ylabel='True Positive Rate',title='ROC Curve')\n",
    "ax.text(0.05,0.95,'AUC Score = {:.2f}'.format(auc_score),transform=ax.transAxes,fontsize=12)\n",
    "\n",
    "plt.show()"
   ]
  },
  {
   "cell_type": "markdown",
   "metadata": {},
   "source": [
    "## Comparing to Statsbomb xG"
   ]
  },
  {
   "cell_type": "markdown",
   "metadata": {},
   "source": [
    "Comparing my xG model to the values calculated by Statsbomb's model, starting with each of Messi's shot in the 15/16 season."
   ]
  },
  {
   "cell_type": "code",
   "execution_count": 627,
   "metadata": {},
   "outputs": [],
   "source": [
    "shots_all_15 = pd.concat(shots['2015'])\n",
    "shots_barca_15 = shots_all_15[shots_all_15['team'] == 'Barcelona']\n",
    "barca_players = shots_barca_15.player.unique()"
   ]
  },
  {
   "cell_type": "markdown",
   "metadata": {},
   "source": [
    "Defining a function to take a DataFrame of shots and return the correct forms for use in my xG model."
   ]
  },
  {
   "cell_type": "code",
   "execution_count": 628,
   "metadata": {},
   "outputs": [],
   "source": [
    "def get_xg_params(df):\n",
    "    df = df\n",
    "    \n",
    "    df_clean = df[(df['open_goal'] == False)&(df['deflection'] == False)\n",
    "                  &(df['technique'] == 'Normal')&(df['body_part'] != 'Other')\n",
    "                  &(df['shot_type'] != 'Corner')&(df['outcome'] != 'Blocked')\n",
    "                  &(df['play_pattern'] != 'From Goal Kick')&(df['play_pattern'] != 'From Kick Off')\n",
    "                  &(df['play_pattern'] != 'From Keeper')]\n",
    "    \n",
    "    x2 = 120\n",
    "    y2 = 40\n",
    "    x1 = df_clean['x'].values\n",
    "    y1 = df_clean['y'].values\n",
    "\n",
    "    d = np.sqrt((x2-x1) ** 2 + (y2-y1) ** 2)\n",
    "    ang = np.arctan(np.absolute((y2-y1))/np.absolute((x2-x1)))*(180/np.pi)\n",
    "    \n",
    "    shots_model = pd.DataFrame()\n",
    "    shots_model['isGoal'] = (df_clean['outcome'] == 'Goal').astype('int').reset_index(drop=True)\n",
    "    shots_model['dist'] = d\n",
    "    shots_model['angle'] = ang\n",
    "    shots_model['isHead'] = (df_clean['body_part'] == 'Head').astype('int').reset_index(drop=True)\n",
    "    shots_model['isFirstTime'] = df_clean['first_time'].astype('int').reset_index(drop=True)\n",
    "    shots_model['isUnderPress'] = df_clean['under_pressure'].astype('int').reset_index(drop=True)\n",
    "    shots_model['isFK'] = (df_clean['shot_type'] == 'Free Kick').astype('int').reset_index(drop=True)\n",
    "    shots_model['isPen'] = (df_clean['shot_type'] == 'Penalty').astype('int').reset_index(drop=True)\n",
    "    shots_model['isFromCorner'] = (df_clean['play_pattern'] == 'From Corner').astype('int').reset_index(drop=True)\n",
    "    shots_model['isFromCounter'] = (df_clean['play_pattern'] == 'From Counter').astype('int').reset_index(drop=True)\n",
    "    \n",
    "    X = shots_model[['dist','angle','isHead','isFirstTime','isUnderPress','isFK','isPen','isFromCorner','isFromCounter']]\n",
    "    y = shots_model['isGoal'].values\n",
    "    sb_xg = df_clean.sb_xg.values\n",
    "    \n",
    "    return X, y, sb_xg"
   ]
  },
  {
   "cell_type": "code",
   "execution_count": 629,
   "metadata": {},
   "outputs": [],
   "source": [
    "testx, testy, sb_xg_test = get_xg_params(shots_barca_15[shots_barca_15['player'] == barca_players[1]])"
   ]
  },
  {
   "cell_type": "markdown",
   "metadata": {},
   "source": [
    "The shot at index 48 is a penalty by the x and y coords are incorrect so this causes issues with my xG model. I should really introduce a system where a penalty is automatically given xG=0.76 rather than calculating using the regression. Until this is done however, just be aware of this point."
   ]
  },
  {
   "cell_type": "code",
   "execution_count": 630,
   "metadata": {},
   "outputs": [],
   "source": [
    "testx.loc[48];"
   ]
  },
  {
   "cell_type": "code",
   "execution_count": 631,
   "metadata": {},
   "outputs": [],
   "source": [
    "xg_model = reg.predict_proba(testx)[:,1]"
   ]
  },
  {
   "cell_type": "code",
   "execution_count": 632,
   "metadata": {},
   "outputs": [],
   "source": [
    "# Just an array to put my and Statsbomb xG side by side\n",
    "xg_comp_list = []\n",
    "for i in range(len(xg_model)):\n",
    "    xg_comp_list.append([xg_model[i],sb_xg_test[i]])\n",
    "np.array(xg_comp_list);"
   ]
  },
  {
   "cell_type": "markdown",
   "metadata": {},
   "source": [
    "Making two linear fits, without and with an intercept, for my and Statsbomb xG values."
   ]
  },
  {
   "cell_type": "code",
   "execution_count": 633,
   "metadata": {},
   "outputs": [
    {
     "name": "stdout",
     "output_type": "stream",
     "text": [
      "                                 OLS Regression Results                                \n",
      "=======================================================================================\n",
      "Dep. Variable:                      y   R-squared (uncentered):                   0.814\n",
      "Model:                            OLS   Adj. R-squared (uncentered):              0.812\n",
      "Method:                 Least Squares   F-statistic:                              402.0\n",
      "Date:                Tue, 25 Feb 2020   Prob (F-statistic):                    2.43e-35\n",
      "Time:                        13:13:50   Log-Likelihood:                          62.980\n",
      "No. Observations:                  93   AIC:                                     -124.0\n",
      "Df Residuals:                      92   BIC:                                     -121.4\n",
      "Df Model:                           1                                                  \n",
      "Covariance Type:            nonrobust                                                  \n",
      "==============================================================================\n",
      "                 coef    std err          t      P>|t|      [0.025      0.975]\n",
      "------------------------------------------------------------------------------\n",
      "x1             0.8062      0.040     20.050      0.000       0.726       0.886\n",
      "==============================================================================\n",
      "Omnibus:                       52.436   Durbin-Watson:                   2.109\n",
      "Prob(Omnibus):                  0.000   Jarque-Bera (JB):              306.205\n",
      "Skew:                           1.638   Prob(JB):                     3.22e-67\n",
      "Kurtosis:                      11.264   Cond. No.                         1.00\n",
      "==============================================================================\n",
      "\n",
      "Warnings:\n",
      "[1] Standard Errors assume that the covariance matrix of the errors is correctly specified.\n",
      "                            OLS Regression Results                            \n",
      "==============================================================================\n",
      "Dep. Variable:                      y   R-squared:                       0.699\n",
      "Model:                            OLS   Adj. R-squared:                  0.696\n",
      "Method:                 Least Squares   F-statistic:                     211.2\n",
      "Date:                Tue, 25 Feb 2020   Prob (F-statistic):           1.89e-25\n",
      "Time:                        13:13:50   Log-Likelihood:                 64.494\n",
      "No. Observations:                  93   AIC:                            -125.0\n",
      "Df Residuals:                      91   BIC:                            -119.9\n",
      "Df Model:                           1                                         \n",
      "Covariance Type:            nonrobust                                         \n",
      "==============================================================================\n",
      "                 coef    std err          t      P>|t|      [0.025      0.975]\n",
      "------------------------------------------------------------------------------\n",
      "const         -0.0337      0.019     -1.736      0.086      -0.072       0.005\n",
      "x1             0.8864      0.061     14.534      0.000       0.765       1.008\n",
      "==============================================================================\n",
      "Omnibus:                       50.895   Durbin-Watson:                   2.151\n",
      "Prob(Omnibus):                  0.000   Jarque-Bera (JB):              369.756\n",
      "Skew:                           1.473   Prob(JB):                     5.11e-81\n",
      "Kurtosis:                      12.313   Cond. No.                         5.10\n",
      "==============================================================================\n",
      "\n",
      "Warnings:\n",
      "[1] Standard Errors assume that the covariance matrix of the errors is correctly specified.\n"
     ]
    }
   ],
   "source": [
    "from statsmodels.tools import add_constant\n",
    "\n",
    "lin_fit = sm.OLS(sb_xg_test, xg_model)\n",
    "lin_fit_res = lin_fit.fit()\n",
    "print(lin_fit_res.summary())\n",
    "\n",
    "# Adding constant to linear model\n",
    "xg_model_inter = add_constant(xg_model)\n",
    "lin_fit_inter = sm.OLS(sb_xg_test, xg_model_inter)\n",
    "lin_fit_res_inter = lin_fit_inter.fit()\n",
    "print(lin_fit_res_inter.summary())"
   ]
  },
  {
   "cell_type": "code",
   "execution_count": 648,
   "metadata": {},
   "outputs": [
    {
     "data": {
      "image/png": "[encoded data removed]",
      "text/plain": [
       "<Figure size 432x432 with 1 Axes>"
      ]
     },
     "metadata": {
      "needs_background": "light"
     },
     "output_type": "display_data"
    }
   ],
   "source": [
    "fig, ax = plt.subplots(figsize=(6,6))\n",
    "\n",
    "ax.scatter(xg_model,sb_xg_test,facecolor='none',edgecolor='k')\n",
    "ax.plot(xg_model, lin_fit_res.fittedvalues,'xkcd:red',label='Regression w/o intercept')\n",
    "ax.plot(xg_model, lin_fit_res_inter.fittedvalues,'xkcd:blue',label='Regressoin w/ intercept')\n",
    "\n",
    "ax.set(xlim=(0,0.8),ylim=(0,0.8),xlabel='xG Model',ylabel='Statsbomb xG',title='xG for Messi Shots\\n15/16 Season')\n",
    "ax.legend(loc='best')\n",
    "ax.grid(alpha=0.3)\n",
    "\n",
    "plt.show()"
   ]
  },
  {
   "cell_type": "markdown",
   "metadata": {},
   "source": [
    "### Looking at xG sums for season instead"
   ]
  },
  {
   "cell_type": "markdown",
   "metadata": {},
   "source": [
    "It is probably more appropriate to look a the sum of xG over a season for each player, rather than the individual shots.\n",
    "\n",
    "Start by calculating the xG sums."
   ]
  },
  {
   "cell_type": "code",
   "execution_count": 623,
   "metadata": {},
   "outputs": [],
   "source": [
    "sb_xg_sum = []\n",
    "xg_model_sum = []\n",
    "for player in barca_players:\n",
    "    X, y, sb_xg = get_xg_params(shots_barca_15[shots_barca_15['player'] == str(player)])\n",
    "    if len(X) > 0:\n",
    "        xg_model = reg.predict_proba(X)[:,1]\n",
    "        sb_xg_sum.append(sum(sb_xg))\n",
    "        xg_model_sum.append(sum(xg_model))\n",
    "    else:\n",
    "        sb_xg_sum.append(0)\n",
    "        xg_model_sum.append(0)        \n",
    "\n",
    "sb_xg_sum = np.array(sb_xg_sum)\n",
    "xg_model_sum = np.array(xg_model_sum)"
   ]
  },
  {
   "cell_type": "markdown",
   "metadata": {},
   "source": [
    "Again performing linear fits with and without intercept. R^2 are now much closer to 1."
   ]
  },
  {
   "cell_type": "code",
   "execution_count": 624,
   "metadata": {},
   "outputs": [
    {
     "name": "stdout",
     "output_type": "stream",
     "text": [
      "                                 OLS Regression Results                                \n",
      "=======================================================================================\n",
      "Dep. Variable:                      y   R-squared (uncentered):                   0.984\n",
      "Model:                            OLS   Adj. R-squared (uncentered):              0.983\n",
      "Method:                 Least Squares   F-statistic:                              1151.\n",
      "Date:                Tue, 25 Feb 2020   Prob (F-statistic):                    1.81e-18\n",
      "Time:                        13:12:56   Log-Likelihood:                         -24.097\n",
      "No. Observations:                  20   AIC:                                      50.19\n",
      "Df Residuals:                      19   BIC:                                      51.19\n",
      "Df Model:                           1                                                  \n",
      "Covariance Type:            nonrobust                                                  \n",
      "==============================================================================\n",
      "                 coef    std err          t      P>|t|      [0.025      0.975]\n",
      "------------------------------------------------------------------------------\n",
      "x1             0.8569      0.025     33.933      0.000       0.804       0.910\n",
      "==============================================================================\n",
      "Omnibus:                       11.272   Durbin-Watson:                   2.955\n",
      "Prob(Omnibus):                  0.004   Jarque-Bera (JB):               20.133\n",
      "Skew:                          -0.422   Prob(JB):                     4.25e-05\n",
      "Kurtosis:                       7.842   Cond. No.                         1.00\n",
      "==============================================================================\n",
      "\n",
      "Warnings:\n",
      "[1] Standard Errors assume that the covariance matrix of the errors is correctly specified.\n",
      "                            OLS Regression Results                            \n",
      "==============================================================================\n",
      "Dep. Variable:                      y   R-squared:                       0.980\n",
      "Model:                            OLS   Adj. R-squared:                  0.979\n",
      "Method:                 Least Squares   F-statistic:                     869.6\n",
      "Date:                Tue, 25 Feb 2020   Prob (F-statistic):           1.09e-16\n",
      "Time:                        13:12:56   Log-Likelihood:                -24.067\n",
      "No. Observations:                  20   AIC:                             52.13\n",
      "Df Residuals:                      18   BIC:                             54.13\n",
      "Df Model:                           1                                         \n",
      "Covariance Type:            nonrobust                                         \n",
      "==============================================================================\n",
      "                 coef    std err          t      P>|t|      [0.025      0.975]\n",
      "------------------------------------------------------------------------------\n",
      "const          0.0492      0.212      0.232      0.820      -0.397       0.495\n",
      "x1             0.8539      0.029     29.489      0.000       0.793       0.915\n",
      "==============================================================================\n",
      "Omnibus:                       10.464   Durbin-Watson:                   2.965\n",
      "Prob(Omnibus):                  0.005   Jarque-Bera (JB):               18.647\n",
      "Skew:                          -0.245   Prob(JB):                     8.93e-05\n",
      "Kurtosis:                       7.705   Cond. No.                         8.23\n",
      "==============================================================================\n",
      "\n",
      "Warnings:\n",
      "[1] Standard Errors assume that the covariance matrix of the errors is correctly specified.\n"
     ]
    }
   ],
   "source": [
    "from statsmodels.tools import add_constant\n",
    "\n",
    "lin_fit = sm.OLS(sb_xg_sum, xg_model_sum)\n",
    "lin_fit_res = lin_fit.fit()\n",
    "print(lin_fit_res.summary())\n",
    "\n",
    "# Adding constant to linear model\n",
    "xg_model_sum_inter = add_constant(xg_model_sum)\n",
    "lin_fit_inter = sm.OLS(sb_xg_sum, xg_model_sum_inter)\n",
    "lin_fit_res_inter = lin_fit_inter.fit()\n",
    "print(lin_fit_res_inter.summary())"
   ]
  },
  {
   "cell_type": "code",
   "execution_count": 625,
   "metadata": {},
   "outputs": [
    {
     "data": {
      "image/png": "[encoded data removed]",
      "text/plain": [
       "<Figure size 432x432 with 1 Axes>"
      ]
     },
     "metadata": {
      "needs_background": "light"
     },
     "output_type": "display_data"
    }
   ],
   "source": [
    "top_players = ['Lionel Andrés Messi Cuccittini','Luis Alberto Suárez Díaz','Neymar da Silva Santos Junior']\n",
    "nicknames = ['Messi','Suarez','Neymar']\n",
    "top_players_loc = []\n",
    "for i in top_players:\n",
    "    top_players_loc.append(np.where(barca_players == str(i))[0][0])\n",
    "\n",
    "fig, ax = plt.subplots(figsize=(6,6))\n",
    "\n",
    "ax.scatter(xg_model_sum,sb_xg_sum,facecolor='none',edgecolor='k')\n",
    "ax.plot(xg_model_sum, lin_fit_res.fittedvalues,'xkcd:red')\n",
    "ax.plot(xg_model_sum, lin_fit_res_inter.fittedvalues,'xkcd:blue')\n",
    "\n",
    "ax.set(xlim=(0,25),ylim=(0,25),xlabel='xG Model',ylabel='Statsbomb xG',title='xG Sums for Barca Players\\n15/16 Season')\n",
    "ax.grid(alpha=0.3)\n",
    "\n",
    "for i in range(len(top_players_loc)):\n",
    "    ax.text(xg_model_sum[top_players_loc[i]]-0.5,sb_xg_sum[top_players_loc[i]]+0.7,nicknames[i])\n",
    "\n",
    "plt.show()"
   ]
  },
  {
   "cell_type": "markdown",
   "metadata": {},
   "source": [
    "## Comparing to actual goals"
   ]
  },
  {
   "cell_type": "markdown",
   "metadata": {},
   "source": []
  }
 ],
 "metadata": {
  "kernelspec": {
   "display_name": "Python 3",
   "language": "python",
   "name": "python3"
  },
  "language_info": {
   "codemirror_mode": {
    "name": "ipython",
    "version": 3
   },
   "file_extension": ".py",
   "mimetype": "text/x-python",
   "name": "python",
   "nbconvert_exporter": "python",
   "pygments_lexer": "ipython3",
   "version": "3.6.9"
  }
 },
 "nbformat": 4,
 "nbformat_minor": 2
}
