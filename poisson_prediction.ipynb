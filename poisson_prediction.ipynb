{
 "cells": [
  {
   "cell_type": "markdown",
   "metadata": {},
   "source": [
    "# Predicting Football Results with a Simple Poisson Distribution"
   ]
  },
  {
   "cell_type": "markdown",
   "metadata": {},
   "source": [
    "This notebook will go through the process of predicting the result of football matches using the (overly-simplistic) Poisson distribution.\n",
    "\n",
    "This closely follows the work of [David Sheehan](https://dashee87.github.io/football/python/predicting-football-results-with-statistical-modelling/) (with corresponding GitHub [here](https://github.com/dashee87/blogScripts/blob/master/Jupyter/2017-06-04-predicting-football-results-with-statistical-modelling.ipynb)) and [Benedikt Droste](https://towardsdatascience.com/predict-soccer-matches-with-50-accuracy-a24cc8078877).\n",
    "\n",
    "Another very useful resource on the Poisson distribution in general is this piece by [Will Koehrsen](https://towardsdatascience.com/the-poisson-distribution-and-poisson-process-explained-4e2cb17d459)."
   ]
  },
  {
   "cell_type": "markdown",
   "metadata": {},
   "source": [
    "This simple model is based on the number of goals scored and conceded by each team. Using this, an offensive and defensive strength for each team is calculated, plus a general home advantage for the league.\n",
    "\n",
    "Start by importing the data. Here the Premier League 2016/17 season is used."
   ]
  },
  {
   "cell_type": "code",
   "execution_count": 1,
   "metadata": {},
   "outputs": [
    {
     "data": {
      "text/html": [
       "<div>\n",
       "<style scoped>\n",
       "    .dataframe tbody tr th:only-of-type {\n",
       "        vertical-align: middle;\n",
       "    }\n",
       "\n",
       "    .dataframe tbody tr th {\n",
       "        vertical-align: top;\n",
       "    }\n",
       "\n",
       "    .dataframe thead th {\n",
       "        text-align: right;\n",
       "    }\n",
       "</style>\n",
       "<table border=\"1\" class=\"dataframe\">\n",
       "  <thead>\n",
       "    <tr style=\"text-align: right;\">\n",
       "      <th></th>\n",
       "      <th>HomeTeam</th>\n",
       "      <th>AwayTeam</th>\n",
       "      <th>HomeGoals</th>\n",
       "      <th>AwayGoals</th>\n",
       "    </tr>\n",
       "  </thead>\n",
       "  <tbody>\n",
       "    <tr>\n",
       "      <th>0</th>\n",
       "      <td>Burnley</td>\n",
       "      <td>Swansea</td>\n",
       "      <td>0</td>\n",
       "      <td>1</td>\n",
       "    </tr>\n",
       "    <tr>\n",
       "      <th>1</th>\n",
       "      <td>Crystal Palace</td>\n",
       "      <td>West Brom</td>\n",
       "      <td>0</td>\n",
       "      <td>1</td>\n",
       "    </tr>\n",
       "    <tr>\n",
       "      <th>2</th>\n",
       "      <td>Everton</td>\n",
       "      <td>Tottenham</td>\n",
       "      <td>1</td>\n",
       "      <td>1</td>\n",
       "    </tr>\n",
       "    <tr>\n",
       "      <th>3</th>\n",
       "      <td>Hull</td>\n",
       "      <td>Leicester</td>\n",
       "      <td>2</td>\n",
       "      <td>1</td>\n",
       "    </tr>\n",
       "    <tr>\n",
       "      <th>4</th>\n",
       "      <td>Man City</td>\n",
       "      <td>Sunderland</td>\n",
       "      <td>2</td>\n",
       "      <td>1</td>\n",
       "    </tr>\n",
       "  </tbody>\n",
       "</table>\n",
       "</div>"
      ],
      "text/plain": [
       "         HomeTeam    AwayTeam  HomeGoals  AwayGoals\n",
       "0         Burnley     Swansea          0          1\n",
       "1  Crystal Palace   West Brom          0          1\n",
       "2         Everton   Tottenham          1          1\n",
       "3            Hull   Leicester          2          1\n",
       "4        Man City  Sunderland          2          1"
      ]
     },
     "execution_count": 1,
     "metadata": {},
     "output_type": "execute_result"
    }
   ],
   "source": [
    "import numpy as np\n",
    "import matplotlib.pyplot as plt\n",
    "import pandas as pd\n",
    "from scipy.stats import poisson,skellam\n",
    "\n",
    "epl_1617 = pd.read_csv(\"http://www.football-data.co.uk/mmz4281/1617/E0.csv\")\n",
    "epl_1617 = epl_1617[['HomeTeam','AwayTeam','FTHG','FTAG']]\n",
    "epl_1617 = epl_1617.rename(columns={'FTHG': 'HomeGoals', 'FTAG': 'AwayGoals'})\n",
    "epl_1617.head()"
   ]
  },
  {
   "cell_type": "markdown",
   "metadata": {},
   "source": [
    "With the aim of modelling the final round of fixtures (last 10 games) the last 10 rows (games) must be removed."
   ]
  },
  {
   "cell_type": "code",
   "execution_count": 2,
   "metadata": {},
   "outputs": [
    {
     "data": {
      "text/plain": [
       "HomeGoals    1.591892\n",
       "AwayGoals    1.183784\n",
       "dtype: float64"
      ]
     },
     "execution_count": 2,
     "metadata": {},
     "output_type": "execute_result"
    }
   ],
   "source": [
    "epl_1617 = epl_1617[:-10]\n",
    "epl_1617.mean()"
   ]
  },
  {
   "cell_type": "markdown",
   "metadata": {},
   "source": [
    "Instantly, by taking the mean, we see that home teams score more goals than away teams."
   ]
  },
  {
   "cell_type": "markdown",
   "metadata": {},
   "source": [
    "## Poisson Distribution"
   ]
  },
  {
   "cell_type": "markdown",
   "metadata": {},
   "source": [
    "The Poisson distribution is a *discrete* probability distribution describing the probability of the number of events in a specific time period where the *average time* between events is known (the *rate*), but the exact timing of events is random. It is defined (its probability mass function (pmf))\n",
    "\\begin{equation}\n",
    "    P(k) = e^{-\\lambda} \\frac{\\lambda^k}{k!}\\, ,\n",
    "\\end{equation}\n",
    "where $P(k)$ is the probability of observing $k$ events in a time period and $\\lambda$ is the *rate* (expected number of events in an interval). The distribution is always peaked at $\\lambda$.\n",
    "\n",
    "Crucially, the Poisson distribution relies on **three key assumptions**:\n",
    "1. Events are **independent** of each other. That is, the occurrence of one event does not affect the probability another event will occur.\n",
    "2. The average rate $\\lambda$ is **constant**.\n",
    "3. Two events **cannot** occur at the same time."
   ]
  },
  {
   "cell_type": "markdown",
   "metadata": {},
   "source": [
    "Given these assumptions we can already see some issues:\n",
    "- Clearly a team scoring a goal affects the probability of another being scored - tactics and mentalities will change. **Gamestate matters** and the first assumption is not true."
   ]
  },
  {
   "cell_type": "markdown",
   "metadata": {},
   "source": [
    "## Home and Away differences"
   ]
  },
  {
   "cell_type": "markdown",
   "metadata": {},
   "source": [
    "To begin, the home and away team will be treated as two separate Poisson distributions given the differences in scoring."
   ]
  },
  {
   "cell_type": "code",
   "execution_count": 3,
   "metadata": {},
   "outputs": [
    {
     "data": {
      "text/plain": [
       "array([[2.03540171e-01, 3.06118259e-01],\n",
       "       [3.24013948e-01, 3.62377831e-01],\n",
       "       [2.57897589e-01, 2.14488500e-01],\n",
       "       [1.36848360e-01, 8.46360027e-02],\n",
       "       [5.44619487e-02, 2.50476819e-02],\n",
       "       [1.73395069e-02, 5.93020793e-03],\n",
       "       [4.60043674e-03, 1.17001400e-03],\n",
       "       [1.04619971e-03, 1.97863371e-04]])"
      ]
     },
     "execution_count": 3,
     "metadata": {},
     "output_type": "execute_result"
    }
   ],
   "source": [
    "np.column_stack([[poisson.pmf(goals,epl_1617.mean()[mean]) for goals in range(8)] for mean in range(2)])"
   ]
  },
  {
   "cell_type": "code",
   "execution_count": 4,
   "metadata": {},
   "outputs": [],
   "source": [
    "# Calculate Poisson for each mean goals (home and away) value\n",
    "poisson_pred = np.column_stack([[poisson.pmf(goals,epl_1617.mean()[mean]) for goals in range(8)] for mean in range(2)])"
   ]
  },
  {
   "cell_type": "markdown",
   "metadata": {},
   "source": [
    "The predictions of these Poisson distributions can then be compared to the distribution of the actual number of goals scored by the home and away teams."
   ]
  },
  {
   "cell_type": "code",
   "execution_count": 5,
   "metadata": {},
   "outputs": [
    {
     "data": {
      "image/png": "[encoded data removed]",
      "text/plain": [
       "<Figure size 576x360 with 1 Axes>"
      ]
     },
     "metadata": {
      "needs_background": "light"
     },
     "output_type": "display_data"
    }
   ],
   "source": [
    "fig, ax = plt.subplots(figsize=(8,5))\n",
    "\n",
    "# Plot histogram of actual goals\n",
    "ax.hist(epl_1617[['HomeGoals', 'AwayGoals']].values, range(9), alpha=0.7, label=['Home', 'Away'],\n",
    "         density=True, color=[\"#034694\",\"#EB172B\"])\n",
    "\n",
    "# Add lines for the Poisson distributions\n",
    "pois1, = ax.plot([i-0.5 for i in range(1,9)], poisson_pred[:,0],\n",
    "                  linestyle='-', marker='o',label=\"Home\", color = \"#0a7bff\")\n",
    "pois2, = ax.plot([i-0.5 for i in range(1,9)], poisson_pred[:,1],\n",
    "                  linestyle='-', marker='o',label=\"Away\", color = \"#ff7c89\")\n",
    "\n",
    "leg = ax.legend(loc='upper right', fontsize=13, ncol=2)\n",
    "leg.set_title(\"Poisson           Actual        \", prop = {'size':'14', 'weight':'bold'})\n",
    "\n",
    "ax.set_xticks([i-0.5 for i in range(1,9)])\n",
    "ax.set_xticklabels([i for i in range(0,8)])\n",
    "ax.set_xlabel(\"Goals per Match\",size=13)\n",
    "ax.set_ylabel(\"Proportion of Matches\",size=13)\n",
    "ax.set_title(\"Number of Goals per Match (EPL 2016/17 Season)\",size=14,fontweight='bold')\n",
    "ax.set_ylim([-0.004, 0.4])\n",
    "plt.tight_layout()\n",
    "plt.show()"
   ]
  },
  {
   "cell_type": "markdown",
   "metadata": {},
   "source": [
    "With these models in hand we can now predict the probability of specific events, e.g. Prob of the home team scoring 2 or more goals?"
   ]
  },
  {
   "cell_type": "code",
   "execution_count": 6,
   "metadata": {},
   "outputs": [
    {
     "name": "stdout",
     "output_type": "stream",
     "text": [
      "0.20354017124365964\n",
      "0.324013948277069\n"
     ]
    }
   ],
   "source": [
    "print(poisson_pred[0,0])\n",
    "print(poisson_pred[1,0])"
   ]
  },
  {
   "cell_type": "markdown",
   "metadata": {},
   "source": [
    "\\begin{align}\n",
    "    P(\\geq 2|\\text{Home}) &= 1 - ( P(1|\\text{Home}) + P(0|\\text{Home}) ) \\\\\n",
    "    &= 1 - (0.20 + 0.32)\\\\\n",
    "    &= 0.47\n",
    "\\end{align}"
   ]
  },
  {
   "cell_type": "markdown",
   "metadata": {},
   "source": [
    "E.g. Prob of draw?"
   ]
  },
  {
   "cell_type": "markdown",
   "metadata": {},
   "source": [
    "\\begin{align}\n",
    "    P(\\text{Draw}) &= P(0|\\text{Home})\\times P(0|\\text{Away}) + P(1|\\text{Home})\\times P(1|\\text{Away}) + \\ldots \\\\\n",
    "    &= 0.248\\\\\n",
    "\\end{align}"
   ]
  },
  {
   "cell_type": "markdown",
   "metadata": {},
   "source": [
    "An alternative method of calculating the probability of a draw is to use the difference between the distributions - this is a distribution known as a *Skellam distribution*. For a draw the difference in scoreline between home and away must be 0:"
   ]
  },
  {
   "cell_type": "code",
   "execution_count": 7,
   "metadata": {},
   "outputs": [
    {
     "data": {
      "text/plain": [
       "0.24809376810717076"
      ]
     },
     "execution_count": 7,
     "metadata": {},
     "output_type": "execute_result"
    }
   ],
   "source": [
    "# Prob of draw between home and away team\n",
    "skellam.pmf(0, epl_1617.mean()[0], epl_1617.mean()[1])"
   ]
  },
  {
   "cell_type": "code",
   "execution_count": 8,
   "metadata": {},
   "outputs": [
    {
     "data": {
      "text/plain": [
       "0.22706765807563964"
      ]
     },
     "execution_count": 8,
     "metadata": {},
     "output_type": "execute_result"
    }
   ],
   "source": [
    "# Prob of home team winning by one goal\n",
    "skellam.pmf(1, epl_1617.mean()[0], epl_1617.mean()[1])"
   ]
  },
  {
   "cell_type": "code",
   "execution_count": 9,
   "metadata": {},
   "outputs": [
    {
     "data": {
      "text/plain": [
       "0.16885506661651978"
      ]
     },
     "execution_count": 9,
     "metadata": {},
     "output_type": "execute_result"
    }
   ],
   "source": [
    "# Prob of away team winning by one goal\n",
    "skellam.pmf(-1, epl_1617.mean()[0], epl_1617.mean()[1])"
   ]
  },
  {
   "cell_type": "markdown",
   "metadata": {},
   "source": [
    "Compare the predicted difference in goals scored to actual."
   ]
  },
  {
   "cell_type": "code",
   "execution_count": 10,
   "metadata": {},
   "outputs": [
    {
     "data": {
      "image/png": "[encoded data removed]",
      "text/plain": [
       "<Figure size 576x360 with 1 Axes>"
      ]
     },
     "metadata": {
      "needs_background": "light"
     },
     "output_type": "display_data"
    }
   ],
   "source": [
    "skellam_pred = [skellam.pmf(i,  epl_1617.mean()[0],  epl_1617.mean()[1]) for i in range(-6,8)]\n",
    "\n",
    "fig, ax = plt.subplots(figsize=(8,5))\n",
    "ax.hist(epl_1617[['HomeGoals']].values - epl_1617[['AwayGoals']].values, range(-6,8), \n",
    "         alpha=0.7, label='Actual',density=True, edgecolor='black')\n",
    "ax.plot([i+0.5 for i in range(-6,8)], skellam_pred,\n",
    "                  linestyle='-', marker='o',label=\"Skellam\", color = '#CD5C5C')\n",
    "ax.legend(loc='upper right', fontsize=13)\n",
    "ax.set_xticks([i+0.5 for i in range(-6,8)])\n",
    "ax.set_xticklabels([i for i in range(-6,8)])\n",
    "ax.set_xlabel(\"Home Goals - Away Goals\",size=13)\n",
    "ax.set_ylabel(\"Proportion of Matches\",size=13)\n",
    "ax.set_title(\"Difference in Goals Scored (Home Team vs Away Team)\",size=14,fontweight='bold')\n",
    "ax.set_ylim([-0.004, 0.26])\n",
    "plt.tight_layout()\n",
    "plt.show()"
   ]
  },
  {
   "cell_type": "markdown",
   "metadata": {},
   "source": [
    "## Focusing on specific teams"
   ]
  },
  {
   "cell_type": "markdown",
   "metadata": {},
   "source": [
    "As an example, look at the distribution of goals scored by Chelsea (top team) and Sunderland (bottom team)."
   ]
  },
  {
   "cell_type": "code",
   "execution_count": 11,
   "metadata": {},
   "outputs": [],
   "source": [
    "# Find the normalised number of goals scored at home\n",
    "chel_home = epl_1617[epl_1617['HomeTeam'] == 'Chelsea']['HomeGoals'].value_counts(normalize=True)\n",
    "sun_home = epl_1617[epl_1617['HomeTeam'] == 'Sunderland']['HomeGoals'].value_counts(normalize=True)\n",
    "\n",
    "# Calculate the Poisson dists at home\n",
    "chel_home_pois = [poisson.pmf(i, sum(chel_home.index * chel_home.values)) for i in range(8)]\n",
    "sun_home_pois = [poisson.pmf(i, sum(sun_home.index * sun_home.values)) for i in range(8)]\n",
    "\n",
    "# Find the normalised number of goals scored away\n",
    "chel_away = epl_1617[epl_1617['AwayTeam'] == 'Chelsea']['AwayGoals'].value_counts(normalize=True)\n",
    "sun_away = epl_1617[epl_1617['AwayTeam'] == 'Sunderland']['AwayGoals'].value_counts(normalize=True)\n",
    "\n",
    "# Calculate the Poisson dists at home\n",
    "chel_away_pois = [poisson.pmf(i, sum(chel_away.index * chel_away.values)) for i in range(8)]\n",
    "sun_away_pois = [poisson.pmf(i, sum(sun_away.index * sun_away.values)) for i in range(8)]"
   ]
  },
  {
   "cell_type": "markdown",
   "metadata": {},
   "source": [
    "Plot the distributions."
   ]
  },
  {
   "cell_type": "code",
   "execution_count": 12,
   "metadata": {},
   "outputs": [
    {
     "data": {
      "image/png": "[encoded data removed]",
      "text/plain": [
       "<Figure size 720x576 with 2 Axes>"
      ]
     },
     "metadata": {
      "needs_background": "light"
     },
     "output_type": "display_data"
    }
   ],
   "source": [
    "fig, (ax1,ax2) = plt.subplots(2,1, figsize=(10,8))\n",
    "\n",
    "width=0.4\n",
    "\n",
    "# Home numbers\n",
    "ax1.bar(chel_home.index - (width/2), chel_home.values, width=width, color=\"#034694\",label=\"Chelsea\")\n",
    "ax1.bar(sun_home.index + (width/2), sun_home.values, width=width, color=\"#EB172B\",label=\"Sunderland\")\n",
    "ax1.plot([i for i in range(8)], chel_home_pois, linestyle='-', marker='o',label=\"Chelsea\", color = \"#0a7bff\")\n",
    "ax1.plot([i for i in range(8)], sun_home_pois, linestyle='-', marker='o',label=\"Sunderland\", color = \"#ff7c89\")\n",
    "\n",
    "leg=ax1.legend(loc='upper right', fontsize=12, ncol=2)\n",
    "leg.set_title(\"Poisson                 Actual                \", prop = {'size':'14', 'weight':'bold'})\n",
    "ax1.set_xlim([-0.5,7.5])\n",
    "ax1.set_ylim([-0.01,0.65])\n",
    "\n",
    "# Away numbers\n",
    "ax2.bar(chel_away.index - (width/2), chel_away.values, width=width, color=\"#034694\",label=\"Chelsea\")\n",
    "ax2.bar(sun_away.index + (width/2), sun_away.values, width=width, color=\"#EB172B\",label=\"Sunderland\")\n",
    "ax2.plot([i for i in range(8)], chel_away_pois, linestyle='-', marker='o',label=\"Chelsea\", color = \"#0a7bff\")\n",
    "ax2.plot([i for i in range(8)], sun_away_pois, linestyle='-', marker='o',label=\"Sunderland\", color = \"#ff7c89\")\n",
    "\n",
    "leg=ax2.legend(loc='upper right', fontsize=12, ncol=2)\n",
    "leg.set_title(\"Poisson                 Actual                \", prop = {'size':'14', 'weight':'bold'})\n",
    "ax2.set_xlim([-0.5,7.5])\n",
    "ax2.set_ylim([-0.01,0.65])\n",
    "\n",
    "ax1.text(0.5, 0.9, 'Home',bbox={'facecolor':'#ffbcf6', 'alpha':0.5, 'pad':5},\n",
    "         ha='right',va='top',transform=ax1.transAxes,fontsize=14)\n",
    "ax2.text(0.5, 0.9, 'Away',bbox={'facecolor':'#ffbcf6', 'alpha':0.5, 'pad':5},\n",
    "         ha='right',va='top',transform=ax2.transAxes,fontsize=14)\n",
    "\n",
    "ax1.set_title(\"Number of Goals per Match (EPL 2016/17 Season)\",size=14,fontweight='bold')\n",
    "ax2.set_xlabel(\"Goals per Match\",size=13)\n",
    "fig.text(0, 0.4, 'Proportion of Matches', rotation=90, size=13, ha='center')\n",
    "\n",
    "plt.tight_layout()\n",
    "plt.show()"
   ]
  },
  {
   "cell_type": "markdown",
   "metadata": {},
   "source": [
    "## Building a Model"
   ]
  },
  {
   "cell_type": "markdown",
   "metadata": {},
   "source": [
    "Build a general Poisson regression model. However, remember for each team we only have 19 games."
   ]
  },
  {
   "cell_type": "code",
   "execution_count": 13,
   "metadata": {},
   "outputs": [],
   "source": [
    "# importing the tools required for the Poisson regression model\n",
    "import statsmodels.api as sm\n",
    "import statsmodels.formula.api as smf"
   ]
  },
  {
   "cell_type": "markdown",
   "metadata": {},
   "source": [
    "Create model by separating each match into 2 separate entries, a home entry for the home team and a corresponding away entry. Also add a new column *home* to signify whether *team* is the home or away team."
   ]
  },
  {
   "cell_type": "code",
   "execution_count": 14,
   "metadata": {},
   "outputs": [
    {
     "data": {
      "text/html": [
       "<div>\n",
       "<style scoped>\n",
       "    .dataframe tbody tr th:only-of-type {\n",
       "        vertical-align: middle;\n",
       "    }\n",
       "\n",
       "    .dataframe tbody tr th {\n",
       "        vertical-align: top;\n",
       "    }\n",
       "\n",
       "    .dataframe thead th {\n",
       "        text-align: right;\n",
       "    }\n",
       "</style>\n",
       "<table border=\"1\" class=\"dataframe\">\n",
       "  <thead>\n",
       "    <tr style=\"text-align: right;\">\n",
       "      <th></th>\n",
       "      <th>team</th>\n",
       "      <th>opponent</th>\n",
       "      <th>goals</th>\n",
       "      <th>home</th>\n",
       "    </tr>\n",
       "  </thead>\n",
       "  <tbody>\n",
       "    <tr>\n",
       "      <th>0</th>\n",
       "      <td>Burnley</td>\n",
       "      <td>Swansea</td>\n",
       "      <td>0</td>\n",
       "      <td>1</td>\n",
       "    </tr>\n",
       "    <tr>\n",
       "      <th>1</th>\n",
       "      <td>Crystal Palace</td>\n",
       "      <td>West Brom</td>\n",
       "      <td>0</td>\n",
       "      <td>1</td>\n",
       "    </tr>\n",
       "    <tr>\n",
       "      <th>2</th>\n",
       "      <td>Everton</td>\n",
       "      <td>Tottenham</td>\n",
       "      <td>1</td>\n",
       "      <td>1</td>\n",
       "    </tr>\n",
       "    <tr>\n",
       "      <th>3</th>\n",
       "      <td>Hull</td>\n",
       "      <td>Leicester</td>\n",
       "      <td>2</td>\n",
       "      <td>1</td>\n",
       "    </tr>\n",
       "    <tr>\n",
       "      <th>4</th>\n",
       "      <td>Man City</td>\n",
       "      <td>Sunderland</td>\n",
       "      <td>2</td>\n",
       "      <td>1</td>\n",
       "    </tr>\n",
       "  </tbody>\n",
       "</table>\n",
       "</div>"
      ],
      "text/plain": [
       "             team    opponent  goals  home\n",
       "0         Burnley     Swansea      0     1\n",
       "1  Crystal Palace   West Brom      0     1\n",
       "2         Everton   Tottenham      1     1\n",
       "3            Hull   Leicester      2     1\n",
       "4        Man City  Sunderland      2     1"
      ]
     },
     "execution_count": 14,
     "metadata": {},
     "output_type": "execute_result"
    }
   ],
   "source": [
    "goal_model_data = pd.concat([\n",
    "    epl_1617[['HomeTeam','AwayTeam','HomeGoals']].assign(home=1).rename(columns={'HomeTeam':'team', 'AwayTeam':'opponent','HomeGoals':'goals'}),\n",
    "    epl_1617[['AwayTeam','HomeTeam','AwayGoals']].assign(home=0).rename(columns={'AwayTeam':'team', 'HomeTeam':'opponent','AwayGoals':'goals'})],\n",
    "    ignore_index=True)\n",
    "\n",
    "goal_model_data.head()"
   ]
  },
  {
   "cell_type": "markdown",
   "metadata": {},
   "source": [
    "Now use this data to perform a Poisson regression where the *team* feature informs us how offensively effective a team is, the *opponent* feature informs us how defensively effective a team is and the *home* feautre tells us the home advantage in the league."
   ]
  },
  {
   "cell_type": "code",
   "execution_count": 15,
   "metadata": {},
   "outputs": [
    {
     "data": {
      "text/html": [
       "<table class=\"simpletable\">\n",
       "<caption>Generalized Linear Model Regression Results</caption>\n",
       "<tr>\n",
       "  <th>Dep. Variable:</th>         <td>goals</td>      <th>  No. Observations:  </th>  <td>   740</td> \n",
       "</tr>\n",
       "<tr>\n",
       "  <th>Model:</th>                  <td>GLM</td>       <th>  Df Residuals:      </th>  <td>   700</td> \n",
       "</tr>\n",
       "<tr>\n",
       "  <th>Model Family:</th>         <td>Poisson</td>     <th>  Df Model:          </th>  <td>    39</td> \n",
       "</tr>\n",
       "<tr>\n",
       "  <th>Link Function:</th>          <td>log</td>       <th>  Scale:             </th> <td>  1.0000</td>\n",
       "</tr>\n",
       "<tr>\n",
       "  <th>Method:</th>                <td>IRLS</td>       <th>  Log-Likelihood:    </th> <td> -1042.4</td>\n",
       "</tr>\n",
       "<tr>\n",
       "  <th>Date:</th>            <td>Tue, 07 Jul 2020</td> <th>  Deviance:          </th> <td>  776.11</td>\n",
       "</tr>\n",
       "<tr>\n",
       "  <th>Time:</th>                <td>11:06:29</td>     <th>  Pearson chi2:      </th>  <td>  659.</td> \n",
       "</tr>\n",
       "<tr>\n",
       "  <th>No. Iterations:</th>          <td>5</td>        <th>                     </th>     <td> </td>   \n",
       "</tr>\n",
       "<tr>\n",
       "  <th>Covariance Type:</th>     <td>nonrobust</td>    <th>                     </th>     <td> </td>   \n",
       "</tr>\n",
       "</table>\n",
       "<table class=\"simpletable\">\n",
       "<tr>\n",
       "               <td></td>                 <th>coef</th>     <th>std err</th>      <th>z</th>      <th>P>|z|</th>  <th>[0.025</th>    <th>0.975]</th>  \n",
       "</tr>\n",
       "<tr>\n",
       "  <th>Intercept</th>                  <td>    0.3725</td> <td>    0.198</td> <td>    1.880</td> <td> 0.060</td> <td>   -0.016</td> <td>    0.761</td>\n",
       "</tr>\n",
       "<tr>\n",
       "  <th>team[T.Bournemouth]</th>        <td>   -0.2891</td> <td>    0.179</td> <td>   -1.612</td> <td> 0.107</td> <td>   -0.641</td> <td>    0.062</td>\n",
       "</tr>\n",
       "<tr>\n",
       "  <th>team[T.Burnley]</th>            <td>   -0.6458</td> <td>    0.200</td> <td>   -3.230</td> <td> 0.001</td> <td>   -1.038</td> <td>   -0.254</td>\n",
       "</tr>\n",
       "<tr>\n",
       "  <th>team[T.Chelsea]</th>            <td>    0.0789</td> <td>    0.162</td> <td>    0.488</td> <td> 0.626</td> <td>   -0.238</td> <td>    0.396</td>\n",
       "</tr>\n",
       "<tr>\n",
       "  <th>team[T.Crystal Palace]</th>     <td>   -0.3865</td> <td>    0.183</td> <td>   -2.107</td> <td> 0.035</td> <td>   -0.746</td> <td>   -0.027</td>\n",
       "</tr>\n",
       "<tr>\n",
       "  <th>team[T.Everton]</th>            <td>   -0.2008</td> <td>    0.173</td> <td>   -1.161</td> <td> 0.246</td> <td>   -0.540</td> <td>    0.138</td>\n",
       "</tr>\n",
       "<tr>\n",
       "  <th>team[T.Hull]</th>               <td>   -0.7006</td> <td>    0.204</td> <td>   -3.441</td> <td> 0.001</td> <td>   -1.100</td> <td>   -0.302</td>\n",
       "</tr>\n",
       "<tr>\n",
       "  <th>team[T.Leicester]</th>          <td>   -0.4204</td> <td>    0.187</td> <td>   -2.249</td> <td> 0.025</td> <td>   -0.787</td> <td>   -0.054</td>\n",
       "</tr>\n",
       "<tr>\n",
       "  <th>team[T.Liverpool]</th>          <td>    0.0162</td> <td>    0.164</td> <td>    0.099</td> <td> 0.921</td> <td>   -0.306</td> <td>    0.338</td>\n",
       "</tr>\n",
       "<tr>\n",
       "  <th>team[T.Man City]</th>           <td>    0.0117</td> <td>    0.164</td> <td>    0.072</td> <td> 0.943</td> <td>   -0.310</td> <td>    0.334</td>\n",
       "</tr>\n",
       "<tr>\n",
       "  <th>team[T.Man United]</th>         <td>   -0.3572</td> <td>    0.181</td> <td>   -1.971</td> <td> 0.049</td> <td>   -0.713</td> <td>   -0.002</td>\n",
       "</tr>\n",
       "<tr>\n",
       "  <th>team[T.Middlesbrough]</th>      <td>   -1.0087</td> <td>    0.225</td> <td>   -4.481</td> <td> 0.000</td> <td>   -1.450</td> <td>   -0.568</td>\n",
       "</tr>\n",
       "<tr>\n",
       "  <th>team[T.Southampton]</th>        <td>   -0.5804</td> <td>    0.195</td> <td>   -2.976</td> <td> 0.003</td> <td>   -0.963</td> <td>   -0.198</td>\n",
       "</tr>\n",
       "<tr>\n",
       "  <th>team[T.Stoke]</th>              <td>   -0.6082</td> <td>    0.197</td> <td>   -3.094</td> <td> 0.002</td> <td>   -0.994</td> <td>   -0.223</td>\n",
       "</tr>\n",
       "<tr>\n",
       "  <th>team[T.Sunderland]</th>         <td>   -0.9619</td> <td>    0.222</td> <td>   -4.329</td> <td> 0.000</td> <td>   -1.397</td> <td>   -0.526</td>\n",
       "</tr>\n",
       "<tr>\n",
       "  <th>team[T.Swansea]</th>            <td>   -0.5136</td> <td>    0.192</td> <td>   -2.673</td> <td> 0.008</td> <td>   -0.890</td> <td>   -0.137</td>\n",
       "</tr>\n",
       "<tr>\n",
       "  <th>team[T.Tottenham]</th>          <td>    0.0532</td> <td>    0.162</td> <td>    0.328</td> <td> 0.743</td> <td>   -0.265</td> <td>    0.371</td>\n",
       "</tr>\n",
       "<tr>\n",
       "  <th>team[T.Watford]</th>            <td>   -0.5969</td> <td>    0.197</td> <td>   -3.035</td> <td> 0.002</td> <td>   -0.982</td> <td>   -0.211</td>\n",
       "</tr>\n",
       "<tr>\n",
       "  <th>team[T.West Brom]</th>          <td>   -0.5567</td> <td>    0.194</td> <td>   -2.876</td> <td> 0.004</td> <td>   -0.936</td> <td>   -0.177</td>\n",
       "</tr>\n",
       "<tr>\n",
       "  <th>team[T.West Ham]</th>           <td>   -0.4802</td> <td>    0.189</td> <td>   -2.535</td> <td> 0.011</td> <td>   -0.851</td> <td>   -0.109</td>\n",
       "</tr>\n",
       "<tr>\n",
       "  <th>opponent[T.Bournemouth]</th>    <td>    0.4109</td> <td>    0.196</td> <td>    2.092</td> <td> 0.036</td> <td>    0.026</td> <td>    0.796</td>\n",
       "</tr>\n",
       "<tr>\n",
       "  <th>opponent[T.Burnley]</th>        <td>    0.1657</td> <td>    0.206</td> <td>    0.806</td> <td> 0.420</td> <td>   -0.237</td> <td>    0.569</td>\n",
       "</tr>\n",
       "<tr>\n",
       "  <th>opponent[T.Chelsea]</th>        <td>   -0.3036</td> <td>    0.234</td> <td>   -1.298</td> <td> 0.194</td> <td>   -0.762</td> <td>    0.155</td>\n",
       "</tr>\n",
       "<tr>\n",
       "  <th>opponent[T.Crystal Palace]</th> <td>    0.3287</td> <td>    0.200</td> <td>    1.647</td> <td> 0.100</td> <td>   -0.062</td> <td>    0.720</td>\n",
       "</tr>\n",
       "<tr>\n",
       "  <th>opponent[T.Everton]</th>        <td>   -0.0442</td> <td>    0.218</td> <td>   -0.202</td> <td> 0.840</td> <td>   -0.472</td> <td>    0.384</td>\n",
       "</tr>\n",
       "<tr>\n",
       "  <th>opponent[T.Hull]</th>           <td>    0.4979</td> <td>    0.193</td> <td>    2.585</td> <td> 0.010</td> <td>    0.120</td> <td>    0.875</td>\n",
       "</tr>\n",
       "<tr>\n",
       "  <th>opponent[T.Leicester]</th>      <td>    0.3369</td> <td>    0.199</td> <td>    1.694</td> <td> 0.090</td> <td>   -0.053</td> <td>    0.727</td>\n",
       "</tr>\n",
       "<tr>\n",
       "  <th>opponent[T.Liverpool]</th>      <td>   -0.0374</td> <td>    0.217</td> <td>   -0.172</td> <td> 0.863</td> <td>   -0.463</td> <td>    0.389</td>\n",
       "</tr>\n",
       "<tr>\n",
       "  <th>opponent[T.Man City]</th>       <td>   -0.0993</td> <td>    0.222</td> <td>   -0.448</td> <td> 0.654</td> <td>   -0.534</td> <td>    0.335</td>\n",
       "</tr>\n",
       "<tr>\n",
       "  <th>opponent[T.Man United]</th>     <td>   -0.4220</td> <td>    0.241</td> <td>   -1.754</td> <td> 0.079</td> <td>   -0.894</td> <td>    0.050</td>\n",
       "</tr>\n",
       "<tr>\n",
       "  <th>opponent[T.Middlesbrough]</th>  <td>    0.1196</td> <td>    0.208</td> <td>    0.574</td> <td> 0.566</td> <td>   -0.289</td> <td>    0.528</td>\n",
       "</tr>\n",
       "<tr>\n",
       "  <th>opponent[T.Southampton]</th>    <td>    0.0458</td> <td>    0.211</td> <td>    0.217</td> <td> 0.828</td> <td>   -0.369</td> <td>    0.460</td>\n",
       "</tr>\n",
       "<tr>\n",
       "  <th>opponent[T.Stoke]</th>          <td>    0.2266</td> <td>    0.203</td> <td>    1.115</td> <td> 0.265</td> <td>   -0.172</td> <td>    0.625</td>\n",
       "</tr>\n",
       "<tr>\n",
       "  <th>opponent[T.Sunderland]</th>     <td>    0.3707</td> <td>    0.198</td> <td>    1.876</td> <td> 0.061</td> <td>   -0.017</td> <td>    0.758</td>\n",
       "</tr>\n",
       "<tr>\n",
       "  <th>opponent[T.Swansea]</th>        <td>    0.4336</td> <td>    0.195</td> <td>    2.227</td> <td> 0.026</td> <td>    0.052</td> <td>    0.815</td>\n",
       "</tr>\n",
       "<tr>\n",
       "  <th>opponent[T.Tottenham]</th>      <td>   -0.5431</td> <td>    0.252</td> <td>   -2.156</td> <td> 0.031</td> <td>   -1.037</td> <td>   -0.049</td>\n",
       "</tr>\n",
       "<tr>\n",
       "  <th>opponent[T.Watford]</th>        <td>    0.3533</td> <td>    0.198</td> <td>    1.782</td> <td> 0.075</td> <td>   -0.035</td> <td>    0.742</td>\n",
       "</tr>\n",
       "<tr>\n",
       "  <th>opponent[T.West Brom]</th>      <td>    0.0970</td> <td>    0.209</td> <td>    0.463</td> <td> 0.643</td> <td>   -0.313</td> <td>    0.507</td>\n",
       "</tr>\n",
       "<tr>\n",
       "  <th>opponent[T.West Ham]</th>       <td>    0.3485</td> <td>    0.198</td> <td>    1.758</td> <td> 0.079</td> <td>   -0.040</td> <td>    0.737</td>\n",
       "</tr>\n",
       "<tr>\n",
       "  <th>home</th>                       <td>    0.2969</td> <td>    0.063</td> <td>    4.702</td> <td> 0.000</td> <td>    0.173</td> <td>    0.421</td>\n",
       "</tr>\n",
       "</table>"
      ],
      "text/plain": [
       "<class 'statsmodels.iolib.summary.Summary'>\n",
       "\"\"\"\n",
       "                 Generalized Linear Model Regression Results                  \n",
       "==============================================================================\n",
       "Dep. Variable:                  goals   No. Observations:                  740\n",
       "Model:                            GLM   Df Residuals:                      700\n",
       "Model Family:                 Poisson   Df Model:                           39\n",
       "Link Function:                    log   Scale:                          1.0000\n",
       "Method:                          IRLS   Log-Likelihood:                -1042.4\n",
       "Date:                Tue, 07 Jul 2020   Deviance:                       776.11\n",
       "Time:                        11:06:29   Pearson chi2:                     659.\n",
       "No. Iterations:                     5                                         \n",
       "Covariance Type:            nonrobust                                         \n",
       "==============================================================================================\n",
       "                                 coef    std err          z      P>|z|      [0.025      0.975]\n",
       "----------------------------------------------------------------------------------------------\n",
       "Intercept                      0.3725      0.198      1.880      0.060      -0.016       0.761\n",
       "team[T.Bournemouth]           -0.2891      0.179     -1.612      0.107      -0.641       0.062\n",
       "team[T.Burnley]               -0.6458      0.200     -3.230      0.001      -1.038      -0.254\n",
       "team[T.Chelsea]                0.0789      0.162      0.488      0.626      -0.238       0.396\n",
       "team[T.Crystal Palace]        -0.3865      0.183     -2.107      0.035      -0.746      -0.027\n",
       "team[T.Everton]               -0.2008      0.173     -1.161      0.246      -0.540       0.138\n",
       "team[T.Hull]                  -0.7006      0.204     -3.441      0.001      -1.100      -0.302\n",
       "team[T.Leicester]             -0.4204      0.187     -2.249      0.025      -0.787      -0.054\n",
       "team[T.Liverpool]              0.0162      0.164      0.099      0.921      -0.306       0.338\n",
       "team[T.Man City]               0.0117      0.164      0.072      0.943      -0.310       0.334\n",
       "team[T.Man United]            -0.3572      0.181     -1.971      0.049      -0.713      -0.002\n",
       "team[T.Middlesbrough]         -1.0087      0.225     -4.481      0.000      -1.450      -0.568\n",
       "team[T.Southampton]           -0.5804      0.195     -2.976      0.003      -0.963      -0.198\n",
       "team[T.Stoke]                 -0.6082      0.197     -3.094      0.002      -0.994      -0.223\n",
       "team[T.Sunderland]            -0.9619      0.222     -4.329      0.000      -1.397      -0.526\n",
       "team[T.Swansea]               -0.5136      0.192     -2.673      0.008      -0.890      -0.137\n",
       "team[T.Tottenham]              0.0532      0.162      0.328      0.743      -0.265       0.371\n",
       "team[T.Watford]               -0.5969      0.197     -3.035      0.002      -0.982      -0.211\n",
       "team[T.West Brom]             -0.5567      0.194     -2.876      0.004      -0.936      -0.177\n",
       "team[T.West Ham]              -0.4802      0.189     -2.535      0.011      -0.851      -0.109\n",
       "opponent[T.Bournemouth]        0.4109      0.196      2.092      0.036       0.026       0.796\n",
       "opponent[T.Burnley]            0.1657      0.206      0.806      0.420      -0.237       0.569\n",
       "opponent[T.Chelsea]           -0.3036      0.234     -1.298      0.194      -0.762       0.155\n",
       "opponent[T.Crystal Palace]     0.3287      0.200      1.647      0.100      -0.062       0.720\n",
       "opponent[T.Everton]           -0.0442      0.218     -0.202      0.840      -0.472       0.384\n",
       "opponent[T.Hull]               0.4979      0.193      2.585      0.010       0.120       0.875\n",
       "opponent[T.Leicester]          0.3369      0.199      1.694      0.090      -0.053       0.727\n",
       "opponent[T.Liverpool]         -0.0374      0.217     -0.172      0.863      -0.463       0.389\n",
       "opponent[T.Man City]          -0.0993      0.222     -0.448      0.654      -0.534       0.335\n",
       "opponent[T.Man United]        -0.4220      0.241     -1.754      0.079      -0.894       0.050\n",
       "opponent[T.Middlesbrough]      0.1196      0.208      0.574      0.566      -0.289       0.528\n",
       "opponent[T.Southampton]        0.0458      0.211      0.217      0.828      -0.369       0.460\n",
       "opponent[T.Stoke]              0.2266      0.203      1.115      0.265      -0.172       0.625\n",
       "opponent[T.Sunderland]         0.3707      0.198      1.876      0.061      -0.017       0.758\n",
       "opponent[T.Swansea]            0.4336      0.195      2.227      0.026       0.052       0.815\n",
       "opponent[T.Tottenham]         -0.5431      0.252     -2.156      0.031      -1.037      -0.049\n",
       "opponent[T.Watford]            0.3533      0.198      1.782      0.075      -0.035       0.742\n",
       "opponent[T.West Brom]          0.0970      0.209      0.463      0.643      -0.313       0.507\n",
       "opponent[T.West Ham]           0.3485      0.198      1.758      0.079      -0.040       0.737\n",
       "home                           0.2969      0.063      4.702      0.000       0.173       0.421\n",
       "==============================================================================================\n",
       "\"\"\""
      ]
     },
     "execution_count": 15,
     "metadata": {},
     "output_type": "execute_result"
    }
   ],
   "source": [
    "poisson_model = smf.glm(formula=\"goals ~ home + team + opponent\", data=goal_model_data, \n",
    "                        family=sm.families.Poisson()).fit()\n",
    "poisson_model.summary()"
   ]
  },
  {
   "cell_type": "markdown",
   "metadata": {},
   "source": [
    "With Poisson regression (like logistic regression) it is the exponent of the parameter values that are the true relevant values. Therefore, large positive value implies more goals $(x>0,\\, e^x>1)$, values close to zero represent a close to average effect $(x=0,\\, e^x=1)$, and large negative values imply fewer goals $(x<0,\\, e^x<1)$.\n",
    "\n",
    "*home* (at the bottom) shows the advantage home teams have in scoring goals, $x=0.297 \\rightarrow e^{0.297}=1.346$ times more likely.\n",
    "\n",
    "*team* shows how likely that team is to score. Chelsea 0.0789 and Sunderland -0.9619 shows how the former (latter) are better (worse) at scoring than the average.\n",
    "\n",
    "*opponent* on the other hand shows how easy it is to score against that team. Chelsea -0.3036 and Sunderland 0.3707 shows how the former (latter) conceeds fewer (more) goals than the average."
   ]
  },
  {
   "cell_type": "markdown",
   "metadata": {},
   "source": [
    "Now we can make predictions. Simply give the model *team*, *opponent* and *home* (whether *team* is the home team or away team) to see how many goals we expect *team* to score against *opponent*.\n",
    "\n",
    "Let's predict Chelsea vs Sunderland (with Chelsea at home). First, how many do we expect Chelsea to score?"
   ]
  },
  {
   "cell_type": "code",
   "execution_count": 16,
   "metadata": {},
   "outputs": [
    {
     "data": {
      "text/plain": [
       "array([3.06166192])"
      ]
     },
     "execution_count": 16,
     "metadata": {},
     "output_type": "execute_result"
    }
   ],
   "source": [
    "poisson_model.predict(pd.DataFrame(data={'team':'Chelsea', 'opponent':'Sunderland', 'home':1}, index=[0])).values"
   ]
  },
  {
   "cell_type": "markdown",
   "metadata": {},
   "source": [
    "This is simply the same as performing the calculation\n",
    "\\begin{align}\n",
    "e^{\\text{Intercept}\\, +\\, \\text{team}\\, +\\, \\text{opponent}\\, +\\, \\text{home}}\\ .\n",
    "\\end{align}"
   ]
  },
  {
   "cell_type": "code",
   "execution_count": 17,
   "metadata": {},
   "outputs": [
    {
     "data": {
      "text/plain": [
       "3.061790881006129"
      ]
     },
     "execution_count": 17,
     "metadata": {},
     "output_type": "execute_result"
    }
   ],
   "source": [
    "np.exp(0.3725 + 0.0789 + 0.3707 + 0.2969)"
   ]
  },
  {
   "cell_type": "markdown",
   "metadata": {},
   "source": [
    "So we expect Chelsea to score 3 goals. Now predict how many Sunderland will score."
   ]
  },
  {
   "cell_type": "code",
   "execution_count": 18,
   "metadata": {},
   "outputs": [
    {
     "data": {
      "text/plain": [
       "array([0.40937279])"
      ]
     },
     "execution_count": 18,
     "metadata": {},
     "output_type": "execute_result"
    }
   ],
   "source": [
    "poisson_model.predict( pd.DataFrame(data={'team':'Sunderland', 'opponent':'Chelsea', 'home':0}, index=[0]) ).values"
   ]
  },
  {
   "cell_type": "markdown",
   "metadata": {},
   "source": [
    "So we expect Sunderland to score 0 goals.\n",
    "\n",
    "As before, we have two Poisson distributions. Let's define a function to calculate the probability of various scorelines for any combination of *team*, *opponent* and *home*."
   ]
  },
  {
   "cell_type": "code",
   "execution_count": 19,
   "metadata": {},
   "outputs": [],
   "source": [
    "def simulate_match(foot_model, homeTeam, awayTeam, max_goals=10):\n",
    "    # Find most likely goals scored\n",
    "    home_goals_avg = foot_model.predict(pd.DataFrame(data={'team':homeTeam,'opponent':awayTeam,'home':1},index=[0])).values[0]\n",
    "    away_goals_avg = foot_model.predict(pd.DataFrame(data={'team':awayTeam,'opponent':homeTeam,'home':0},index=[0])).values[0]\n",
    "    \n",
    "    # Find probabilities of each team scoring different number of goals\n",
    "    team_pred = [[poisson.pmf(i, team_avg) for i in range(max_goals+1)] for team_avg in [home_goals_avg, away_goals_avg]]\n",
    "    \n",
    "    # Calculate matrix of probabilities for different scorelines using outer product of the home and away vectors\n",
    "    probs = np.outer(np.array(team_pred[0]), np.array(team_pred[1]))\n",
    "    return probs"
   ]
  },
  {
   "cell_type": "code",
   "execution_count": 20,
   "metadata": {},
   "outputs": [
    {
     "data": {
      "text/plain": [
       "array([[0.03108485, 0.01272529, 0.00260469, 0.00035543],\n",
       "       [0.0951713 , 0.03896054, 0.00797469, 0.00108821],\n",
       "       [0.14569118, 0.059642  , 0.01220791, 0.00166586],\n",
       "       [0.14868571, 0.06086788, 0.01245883, 0.0017001 ]])"
      ]
     },
     "execution_count": 20,
     "metadata": {},
     "output_type": "execute_result"
    }
   ],
   "source": [
    "simulate_match(poisson_model, 'Chelsea', 'Sunderland', max_goals=3)"
   ]
  },
  {
   "cell_type": "markdown",
   "metadata": {},
   "source": [
    "This is a matrix showing the probabilities for different scorelines, with the corresponding scorelines\n",
    "\n",
    "\\begin{pmatrix}\n",
    "0:0 & 0:1 & 0:2 & 0:3 \\\\\n",
    "1:0 & 1:1 & 1:2 & 1:3 \\\\\n",
    "2:0 & 2:1 & 2:2 & 2:3 \\\\\n",
    "3:0 & 3:1 & 3:2 & 3:3\n",
    "\\end{pmatrix}\n",
    "\n",
    "where the rows are the home team (Chelsea) score and the columns correspond to the away team (Sunderland) score.\n",
    "\n",
    "With this form it is easy to use matrix manipulation functions to calculate probability of different outcomes."
   ]
  },
  {
   "cell_type": "code",
   "execution_count": 21,
   "metadata": {},
   "outputs": [],
   "source": [
    "chel_sun = simulate_match(poisson_model, 'Chelsea', 'Sunderland', max_goals=10)"
   ]
  },
  {
   "cell_type": "markdown",
   "metadata": {},
   "source": [
    "First, a Chelsea win is given by summing all the entries below the diagonal."
   ]
  },
  {
   "cell_type": "code",
   "execution_count": 22,
   "metadata": {},
   "outputs": [
    {
     "data": {
      "text/plain": [
       "0.8885986612364136"
      ]
     },
     "execution_count": 22,
     "metadata": {},
     "output_type": "execute_result"
    }
   ],
   "source": [
    "# np.tril is used to select entries below diagonal \n",
    "np.sum(np.tril(chel_sun,-1))"
   ]
  },
  {
   "cell_type": "markdown",
   "metadata": {},
   "source": [
    "Second, a draw."
   ]
  },
  {
   "cell_type": "code",
   "execution_count": 23,
   "metadata": {},
   "outputs": [
    {
     "data": {
      "text/plain": [
       "0.08409349268649574"
      ]
     },
     "execution_count": 23,
     "metadata": {},
     "output_type": "execute_result"
    }
   ],
   "source": [
    "np.trace(chel_sun)"
   ]
  },
  {
   "cell_type": "markdown",
   "metadata": {},
   "source": [
    "Finally, a Sunderland win."
   ]
  },
  {
   "cell_type": "code",
   "execution_count": 24,
   "metadata": {},
   "outputs": [
    {
     "data": {
      "text/plain": [
       "0.026961819942852967"
      ]
     },
     "execution_count": 24,
     "metadata": {},
     "output_type": "execute_result"
    }
   ],
   "source": [
    "# np.triu is used to select entries above diagonal\n",
    "np.sum(np.triu(chel_sun,1))"
   ]
  },
  {
   "cell_type": "markdown",
   "metadata": {},
   "source": [
    "## Predicting the final Gameweek"
   ]
  },
  {
   "cell_type": "markdown",
   "metadata": {},
   "source": [
    "Using the Poisson model the results for the final gameweek can now be predicted."
   ]
  },
  {
   "cell_type": "code",
   "execution_count": 25,
   "metadata": {},
   "outputs": [
    {
     "data": {
      "text/html": [
       "<div>\n",
       "<style scoped>\n",
       "    .dataframe tbody tr th:only-of-type {\n",
       "        vertical-align: middle;\n",
       "    }\n",
       "\n",
       "    .dataframe tbody tr th {\n",
       "        vertical-align: top;\n",
       "    }\n",
       "\n",
       "    .dataframe thead th {\n",
       "        text-align: right;\n",
       "    }\n",
       "</style>\n",
       "<table border=\"1\" class=\"dataframe\">\n",
       "  <thead>\n",
       "    <tr style=\"text-align: right;\">\n",
       "      <th></th>\n",
       "      <th>HomeTeam</th>\n",
       "      <th>AwayTeam</th>\n",
       "      <th>HomeGoals</th>\n",
       "      <th>AwayGoals</th>\n",
       "    </tr>\n",
       "  </thead>\n",
       "  <tbody>\n",
       "    <tr>\n",
       "      <th>370</th>\n",
       "      <td>Arsenal</td>\n",
       "      <td>Everton</td>\n",
       "      <td>3</td>\n",
       "      <td>1</td>\n",
       "    </tr>\n",
       "    <tr>\n",
       "      <th>371</th>\n",
       "      <td>Burnley</td>\n",
       "      <td>West Ham</td>\n",
       "      <td>1</td>\n",
       "      <td>2</td>\n",
       "    </tr>\n",
       "    <tr>\n",
       "      <th>372</th>\n",
       "      <td>Chelsea</td>\n",
       "      <td>Sunderland</td>\n",
       "      <td>5</td>\n",
       "      <td>1</td>\n",
       "    </tr>\n",
       "    <tr>\n",
       "      <th>373</th>\n",
       "      <td>Hull</td>\n",
       "      <td>Tottenham</td>\n",
       "      <td>1</td>\n",
       "      <td>7</td>\n",
       "    </tr>\n",
       "    <tr>\n",
       "      <th>374</th>\n",
       "      <td>Leicester</td>\n",
       "      <td>Bournemouth</td>\n",
       "      <td>1</td>\n",
       "      <td>1</td>\n",
       "    </tr>\n",
       "    <tr>\n",
       "      <th>375</th>\n",
       "      <td>Liverpool</td>\n",
       "      <td>Middlesbrough</td>\n",
       "      <td>3</td>\n",
       "      <td>0</td>\n",
       "    </tr>\n",
       "    <tr>\n",
       "      <th>376</th>\n",
       "      <td>Man United</td>\n",
       "      <td>Crystal Palace</td>\n",
       "      <td>2</td>\n",
       "      <td>0</td>\n",
       "    </tr>\n",
       "    <tr>\n",
       "      <th>377</th>\n",
       "      <td>Southampton</td>\n",
       "      <td>Stoke</td>\n",
       "      <td>0</td>\n",
       "      <td>1</td>\n",
       "    </tr>\n",
       "    <tr>\n",
       "      <th>378</th>\n",
       "      <td>Swansea</td>\n",
       "      <td>West Brom</td>\n",
       "      <td>2</td>\n",
       "      <td>1</td>\n",
       "    </tr>\n",
       "    <tr>\n",
       "      <th>379</th>\n",
       "      <td>Watford</td>\n",
       "      <td>Man City</td>\n",
       "      <td>0</td>\n",
       "      <td>5</td>\n",
       "    </tr>\n",
       "  </tbody>\n",
       "</table>\n",
       "</div>"
      ],
      "text/plain": [
       "        HomeTeam        AwayTeam  HomeGoals  AwayGoals\n",
       "370      Arsenal         Everton          3          1\n",
       "371      Burnley        West Ham          1          2\n",
       "372      Chelsea      Sunderland          5          1\n",
       "373         Hull       Tottenham          1          7\n",
       "374    Leicester     Bournemouth          1          1\n",
       "375    Liverpool   Middlesbrough          3          0\n",
       "376   Man United  Crystal Palace          2          0\n",
       "377  Southampton           Stoke          0          1\n",
       "378      Swansea       West Brom          2          1\n",
       "379      Watford        Man City          0          5"
      ]
     },
     "execution_count": 25,
     "metadata": {},
     "output_type": "execute_result"
    }
   ],
   "source": [
    "epl_1617_final = pd.read_csv(\"http://www.football-data.co.uk/mmz4281/1617/E0.csv\")\n",
    "epl_1617_final = epl_1617_final[['HomeTeam','AwayTeam','FTHG','FTAG']]\n",
    "epl_1617_final = epl_1617_final.rename(columns={'FTHG': 'HomeGoals', 'FTAG': 'AwayGoals'})\n",
    "epl_1617_final = epl_1617_final[370:]\n",
    "epl_1617_final"
   ]
  },
  {
   "cell_type": "markdown",
   "metadata": {},
   "source": [
    "First define a function that returns the most likely home and away goals scored."
   ]
  },
  {
   "cell_type": "code",
   "execution_count": 26,
   "metadata": {},
   "outputs": [],
   "source": [
    "def predict_scoreline(foot_model, homeTeam, awayTeam):\n",
    "    home_goals_avg = foot_model.predict( pd.DataFrame(data={'team':homeTeam, 'opponent':awayTeam, 'home':1}, index=[0]) ).values[0]\n",
    "    away_goals_avg = foot_model.predict( pd.DataFrame(data={'team':awayTeam, 'opponent':homeTeam, 'home':0}, index=[0]) ).values[0]\n",
    "    \n",
    "    return home_goals_avg, away_goals_avg"
   ]
  },
  {
   "cell_type": "markdown",
   "metadata": {},
   "source": [
    "Calculate the predicted scored goals for each team and add them to the dataframe."
   ]
  },
  {
   "cell_type": "code",
   "execution_count": 27,
   "metadata": {},
   "outputs": [],
   "source": [
    "home_pred_list = []\n",
    "away_pred_list = []\n",
    "for i in range(len(epl_1617_final)):\n",
    "    home_pred = predict_scoreline(poisson_model, epl_1617_final['HomeTeam'].values[i], epl_1617_final['AwayTeam'].values[i])[0]\n",
    "    away_pred = predict_scoreline(poisson_model, epl_1617_final['HomeTeam'].values[i], epl_1617_final['AwayTeam'].values[i])[1]\n",
    "    home_pred = np.int(np.around(home_pred))\n",
    "    away_pred = np.int(np.around(away_pred))\n",
    "    \n",
    "    home_pred_list.append(home_pred)\n",
    "    away_pred_list.append(away_pred)\n",
    "    \n",
    "epl_1617_final['HomePred'] = home_pred_list\n",
    "epl_1617_final['AwayPred'] = away_pred_list"
   ]
  },
  {
   "cell_type": "markdown",
   "metadata": {},
   "source": [
    "Add columns showing whether home (H), away (A) or draw (D) is the outcome for the actual result and predicted. Then check if the predicted result (not scoreline) was correct."
   ]
  },
  {
   "cell_type": "code",
   "execution_count": 28,
   "metadata": {},
   "outputs": [],
   "source": [
    "epl_1617_final.loc[(epl_1617_final['HomeGoals'] > epl_1617_final['AwayGoals']), 'Result'] = 'H'\n",
    "epl_1617_final.loc[(epl_1617_final['HomeGoals'] == epl_1617_final['AwayGoals']), 'Result'] = 'D'\n",
    "epl_1617_final.loc[(epl_1617_final['HomeGoals'] < epl_1617_final['AwayGoals']), 'Result'] = 'A'\n",
    "\n",
    "epl_1617_final.loc[(epl_1617_final['HomePred'] > epl_1617_final['AwayPred']), 'Pred'] = 'H'\n",
    "epl_1617_final.loc[(epl_1617_final['HomePred'] == epl_1617_final['AwayPred']), 'Pred'] = 'D'\n",
    "epl_1617_final.loc[(epl_1617_final['HomePred'] < epl_1617_final['AwayPred']), 'Pred'] = 'A'\n",
    "\n",
    "epl_1617_final.loc[(epl_1617_final['Result'] == epl_1617_final['Pred']), 'Correct'] = 'Yes'\n",
    "epl_1617_final.loc[(epl_1617_final['Result'] != epl_1617_final['Pred']), 'Correct'] = 'No'"
   ]
  },
  {
   "cell_type": "code",
   "execution_count": 29,
   "metadata": {},
   "outputs": [
    {
     "data": {
      "text/html": [
       "<div>\n",
       "<style scoped>\n",
       "    .dataframe tbody tr th:only-of-type {\n",
       "        vertical-align: middle;\n",
       "    }\n",
       "\n",
       "    .dataframe tbody tr th {\n",
       "        vertical-align: top;\n",
       "    }\n",
       "\n",
       "    .dataframe thead th {\n",
       "        text-align: right;\n",
       "    }\n",
       "</style>\n",
       "<table border=\"1\" class=\"dataframe\">\n",
       "  <thead>\n",
       "    <tr style=\"text-align: right;\">\n",
       "      <th></th>\n",
       "      <th>HomeTeam</th>\n",
       "      <th>AwayTeam</th>\n",
       "      <th>HomeGoals</th>\n",
       "      <th>AwayGoals</th>\n",
       "      <th>HomePred</th>\n",
       "      <th>AwayPred</th>\n",
       "      <th>Result</th>\n",
       "      <th>Pred</th>\n",
       "      <th>Correct</th>\n",
       "    </tr>\n",
       "  </thead>\n",
       "  <tbody>\n",
       "    <tr>\n",
       "      <th>370</th>\n",
       "      <td>Arsenal</td>\n",
       "      <td>Everton</td>\n",
       "      <td>3</td>\n",
       "      <td>1</td>\n",
       "      <td>2</td>\n",
       "      <td>1</td>\n",
       "      <td>H</td>\n",
       "      <td>H</td>\n",
       "      <td>Yes</td>\n",
       "    </tr>\n",
       "    <tr>\n",
       "      <th>371</th>\n",
       "      <td>Burnley</td>\n",
       "      <td>West Ham</td>\n",
       "      <td>1</td>\n",
       "      <td>2</td>\n",
       "      <td>1</td>\n",
       "      <td>1</td>\n",
       "      <td>A</td>\n",
       "      <td>D</td>\n",
       "      <td>No</td>\n",
       "    </tr>\n",
       "    <tr>\n",
       "      <th>372</th>\n",
       "      <td>Chelsea</td>\n",
       "      <td>Sunderland</td>\n",
       "      <td>5</td>\n",
       "      <td>1</td>\n",
       "      <td>3</td>\n",
       "      <td>0</td>\n",
       "      <td>H</td>\n",
       "      <td>H</td>\n",
       "      <td>Yes</td>\n",
       "    </tr>\n",
       "    <tr>\n",
       "      <th>373</th>\n",
       "      <td>Hull</td>\n",
       "      <td>Tottenham</td>\n",
       "      <td>1</td>\n",
       "      <td>7</td>\n",
       "      <td>1</td>\n",
       "      <td>3</td>\n",
       "      <td>A</td>\n",
       "      <td>A</td>\n",
       "      <td>Yes</td>\n",
       "    </tr>\n",
       "    <tr>\n",
       "      <th>374</th>\n",
       "      <td>Leicester</td>\n",
       "      <td>Bournemouth</td>\n",
       "      <td>1</td>\n",
       "      <td>1</td>\n",
       "      <td>2</td>\n",
       "      <td>2</td>\n",
       "      <td>D</td>\n",
       "      <td>D</td>\n",
       "      <td>Yes</td>\n",
       "    </tr>\n",
       "    <tr>\n",
       "      <th>375</th>\n",
       "      <td>Liverpool</td>\n",
       "      <td>Middlesbrough</td>\n",
       "      <td>3</td>\n",
       "      <td>0</td>\n",
       "      <td>2</td>\n",
       "      <td>1</td>\n",
       "      <td>H</td>\n",
       "      <td>H</td>\n",
       "      <td>Yes</td>\n",
       "    </tr>\n",
       "    <tr>\n",
       "      <th>376</th>\n",
       "      <td>Man United</td>\n",
       "      <td>Crystal Palace</td>\n",
       "      <td>2</td>\n",
       "      <td>0</td>\n",
       "      <td>2</td>\n",
       "      <td>1</td>\n",
       "      <td>H</td>\n",
       "      <td>H</td>\n",
       "      <td>Yes</td>\n",
       "    </tr>\n",
       "    <tr>\n",
       "      <th>377</th>\n",
       "      <td>Southampton</td>\n",
       "      <td>Stoke</td>\n",
       "      <td>0</td>\n",
       "      <td>1</td>\n",
       "      <td>1</td>\n",
       "      <td>1</td>\n",
       "      <td>A</td>\n",
       "      <td>D</td>\n",
       "      <td>No</td>\n",
       "    </tr>\n",
       "    <tr>\n",
       "      <th>378</th>\n",
       "      <td>Swansea</td>\n",
       "      <td>West Brom</td>\n",
       "      <td>2</td>\n",
       "      <td>1</td>\n",
       "      <td>1</td>\n",
       "      <td>1</td>\n",
       "      <td>H</td>\n",
       "      <td>D</td>\n",
       "      <td>No</td>\n",
       "    </tr>\n",
       "    <tr>\n",
       "      <th>379</th>\n",
       "      <td>Watford</td>\n",
       "      <td>Man City</td>\n",
       "      <td>0</td>\n",
       "      <td>5</td>\n",
       "      <td>1</td>\n",
       "      <td>2</td>\n",
       "      <td>A</td>\n",
       "      <td>A</td>\n",
       "      <td>Yes</td>\n",
       "    </tr>\n",
       "  </tbody>\n",
       "</table>\n",
       "</div>"
      ],
      "text/plain": [
       "        HomeTeam        AwayTeam  HomeGoals  AwayGoals  HomePred  AwayPred  \\\n",
       "370      Arsenal         Everton          3          1         2         1   \n",
       "371      Burnley        West Ham          1          2         1         1   \n",
       "372      Chelsea      Sunderland          5          1         3         0   \n",
       "373         Hull       Tottenham          1          7         1         3   \n",
       "374    Leicester     Bournemouth          1          1         2         2   \n",
       "375    Liverpool   Middlesbrough          3          0         2         1   \n",
       "376   Man United  Crystal Palace          2          0         2         1   \n",
       "377  Southampton           Stoke          0          1         1         1   \n",
       "378      Swansea       West Brom          2          1         1         1   \n",
       "379      Watford        Man City          0          5         1         2   \n",
       "\n",
       "    Result Pred Correct  \n",
       "370      H    H     Yes  \n",
       "371      A    D      No  \n",
       "372      H    H     Yes  \n",
       "373      A    A     Yes  \n",
       "374      D    D     Yes  \n",
       "375      H    H     Yes  \n",
       "376      H    H     Yes  \n",
       "377      A    D      No  \n",
       "378      H    D      No  \n",
       "379      A    A     Yes  "
      ]
     },
     "execution_count": 29,
     "metadata": {},
     "output_type": "execute_result"
    }
   ],
   "source": [
    "epl_1617_final"
   ]
  },
  {
   "cell_type": "code",
   "execution_count": 30,
   "metadata": {},
   "outputs": [
    {
     "data": {
      "text/plain": [
       "Yes    7\n",
       "No     3\n",
       "Name: Correct, dtype: int64"
      ]
     },
     "execution_count": 30,
     "metadata": {},
     "output_type": "execute_result"
    }
   ],
   "source": [
    "epl_1617_final['Correct'].value_counts()"
   ]
  },
  {
   "cell_type": "markdown",
   "metadata": {},
   "source": [
    "For this small sample, the model predicted 70% of the results correctly.\n",
    "\n",
    "Now calculate the actual probabilities for the different outcomes of each match."
   ]
  },
  {
   "cell_type": "code",
   "execution_count": 31,
   "metadata": {},
   "outputs": [],
   "source": [
    "def predict_match_outcome(foot_model, homeTeam, awayTeam):\n",
    "    probs = simulate_match(foot_model, homeTeam, awayTeam, max_goals=10)\n",
    "    \n",
    "    home = np.sum(np.tril(probs,-1))\n",
    "    draw = np.trace(probs)\n",
    "    away = np.sum(np.triu(probs,1))\n",
    "    \n",
    "    result = np.array([home,draw,away])\n",
    "    \n",
    "    return result"
   ]
  },
  {
   "cell_type": "code",
   "execution_count": 32,
   "metadata": {},
   "outputs": [],
   "source": [
    "home_probs = []\n",
    "draw_probs = []\n",
    "away_probs = []\n",
    "for i in range(len(epl_1617_final)):\n",
    "    probs = predict_match_outcome(poisson_model, epl_1617_final['HomeTeam'].values[i], epl_1617_final['AwayTeam'].values[i])\n",
    "    \n",
    "    home_probs.append(probs[0])\n",
    "    draw_probs.append(probs[1])\n",
    "    away_probs.append(probs[2])\n",
    "    \n",
    "epl_1617_final['HomeProb'] = home_probs\n",
    "epl_1617_final['DrawProb'] = draw_probs\n",
    "epl_1617_final['AwayProb'] = away_probs"
   ]
  },
  {
   "cell_type": "code",
   "execution_count": 33,
   "metadata": {},
   "outputs": [
    {
     "data": {
      "text/html": [
       "<div>\n",
       "<style scoped>\n",
       "    .dataframe tbody tr th:only-of-type {\n",
       "        vertical-align: middle;\n",
       "    }\n",
       "\n",
       "    .dataframe tbody tr th {\n",
       "        vertical-align: top;\n",
       "    }\n",
       "\n",
       "    .dataframe thead th {\n",
       "        text-align: right;\n",
       "    }\n",
       "</style>\n",
       "<table border=\"1\" class=\"dataframe\">\n",
       "  <thead>\n",
       "    <tr style=\"text-align: right;\">\n",
       "      <th></th>\n",
       "      <th>HomeTeam</th>\n",
       "      <th>AwayTeam</th>\n",
       "      <th>HomeGoals</th>\n",
       "      <th>AwayGoals</th>\n",
       "      <th>HomePred</th>\n",
       "      <th>AwayPred</th>\n",
       "      <th>Result</th>\n",
       "      <th>Pred</th>\n",
       "      <th>Correct</th>\n",
       "      <th>HomeProb</th>\n",
       "      <th>DrawProb</th>\n",
       "      <th>AwayProb</th>\n",
       "    </tr>\n",
       "  </thead>\n",
       "  <tbody>\n",
       "    <tr>\n",
       "      <th>370</th>\n",
       "      <td>Arsenal</td>\n",
       "      <td>Everton</td>\n",
       "      <td>3</td>\n",
       "      <td>1</td>\n",
       "      <td>2</td>\n",
       "      <td>1</td>\n",
       "      <td>H</td>\n",
       "      <td>H</td>\n",
       "      <td>Yes</td>\n",
       "      <td>0.533001</td>\n",
       "      <td>0.225918</td>\n",
       "      <td>0.241077</td>\n",
       "    </tr>\n",
       "    <tr>\n",
       "      <th>371</th>\n",
       "      <td>Burnley</td>\n",
       "      <td>West Ham</td>\n",
       "      <td>1</td>\n",
       "      <td>2</td>\n",
       "      <td>1</td>\n",
       "      <td>1</td>\n",
       "      <td>A</td>\n",
       "      <td>D</td>\n",
       "      <td>No</td>\n",
       "      <td>0.460841</td>\n",
       "      <td>0.263152</td>\n",
       "      <td>0.276006</td>\n",
       "    </tr>\n",
       "    <tr>\n",
       "      <th>372</th>\n",
       "      <td>Chelsea</td>\n",
       "      <td>Sunderland</td>\n",
       "      <td>5</td>\n",
       "      <td>1</td>\n",
       "      <td>3</td>\n",
       "      <td>0</td>\n",
       "      <td>H</td>\n",
       "      <td>H</td>\n",
       "      <td>Yes</td>\n",
       "      <td>0.888599</td>\n",
       "      <td>0.084093</td>\n",
       "      <td>0.026962</td>\n",
       "    </tr>\n",
       "    <tr>\n",
       "      <th>373</th>\n",
       "      <td>Hull</td>\n",
       "      <td>Tottenham</td>\n",
       "      <td>1</td>\n",
       "      <td>7</td>\n",
       "      <td>1</td>\n",
       "      <td>3</td>\n",
       "      <td>A</td>\n",
       "      <td>A</td>\n",
       "      <td>Yes</td>\n",
       "      <td>0.062653</td>\n",
       "      <td>0.138042</td>\n",
       "      <td>0.799239</td>\n",
       "    </tr>\n",
       "    <tr>\n",
       "      <th>374</th>\n",
       "      <td>Leicester</td>\n",
       "      <td>Bournemouth</td>\n",
       "      <td>1</td>\n",
       "      <td>1</td>\n",
       "      <td>2</td>\n",
       "      <td>2</td>\n",
       "      <td>D</td>\n",
       "      <td>D</td>\n",
       "      <td>Yes</td>\n",
       "      <td>0.474692</td>\n",
       "      <td>0.219747</td>\n",
       "      <td>0.305554</td>\n",
       "    </tr>\n",
       "    <tr>\n",
       "      <th>375</th>\n",
       "      <td>Liverpool</td>\n",
       "      <td>Middlesbrough</td>\n",
       "      <td>3</td>\n",
       "      <td>0</td>\n",
       "      <td>2</td>\n",
       "      <td>1</td>\n",
       "      <td>H</td>\n",
       "      <td>H</td>\n",
       "      <td>Yes</td>\n",
       "      <td>0.769684</td>\n",
       "      <td>0.160951</td>\n",
       "      <td>0.069341</td>\n",
       "    </tr>\n",
       "    <tr>\n",
       "      <th>376</th>\n",
       "      <td>Man United</td>\n",
       "      <td>Crystal Palace</td>\n",
       "      <td>2</td>\n",
       "      <td>0</td>\n",
       "      <td>2</td>\n",
       "      <td>1</td>\n",
       "      <td>H</td>\n",
       "      <td>H</td>\n",
       "      <td>Yes</td>\n",
       "      <td>0.672432</td>\n",
       "      <td>0.208757</td>\n",
       "      <td>0.118805</td>\n",
       "    </tr>\n",
       "    <tr>\n",
       "      <th>377</th>\n",
       "      <td>Southampton</td>\n",
       "      <td>Stoke</td>\n",
       "      <td>0</td>\n",
       "      <td>1</td>\n",
       "      <td>1</td>\n",
       "      <td>1</td>\n",
       "      <td>A</td>\n",
       "      <td>D</td>\n",
       "      <td>No</td>\n",
       "      <td>0.496391</td>\n",
       "      <td>0.277415</td>\n",
       "      <td>0.226194</td>\n",
       "    </tr>\n",
       "    <tr>\n",
       "      <th>378</th>\n",
       "      <td>Swansea</td>\n",
       "      <td>West Brom</td>\n",
       "      <td>2</td>\n",
       "      <td>1</td>\n",
       "      <td>1</td>\n",
       "      <td>1</td>\n",
       "      <td>H</td>\n",
       "      <td>D</td>\n",
       "      <td>No</td>\n",
       "      <td>0.368164</td>\n",
       "      <td>0.265662</td>\n",
       "      <td>0.366175</td>\n",
       "    </tr>\n",
       "    <tr>\n",
       "      <th>379</th>\n",
       "      <td>Watford</td>\n",
       "      <td>Man City</td>\n",
       "      <td>0</td>\n",
       "      <td>5</td>\n",
       "      <td>1</td>\n",
       "      <td>2</td>\n",
       "      <td>A</td>\n",
       "      <td>A</td>\n",
       "      <td>Yes</td>\n",
       "      <td>0.166696</td>\n",
       "      <td>0.202521</td>\n",
       "      <td>0.630770</td>\n",
       "    </tr>\n",
       "  </tbody>\n",
       "</table>\n",
       "</div>"
      ],
      "text/plain": [
       "        HomeTeam        AwayTeam  HomeGoals  AwayGoals  HomePred  AwayPred  \\\n",
       "370      Arsenal         Everton          3          1         2         1   \n",
       "371      Burnley        West Ham          1          2         1         1   \n",
       "372      Chelsea      Sunderland          5          1         3         0   \n",
       "373         Hull       Tottenham          1          7         1         3   \n",
       "374    Leicester     Bournemouth          1          1         2         2   \n",
       "375    Liverpool   Middlesbrough          3          0         2         1   \n",
       "376   Man United  Crystal Palace          2          0         2         1   \n",
       "377  Southampton           Stoke          0          1         1         1   \n",
       "378      Swansea       West Brom          2          1         1         1   \n",
       "379      Watford        Man City          0          5         1         2   \n",
       "\n",
       "    Result Pred Correct  HomeProb  DrawProb  AwayProb  \n",
       "370      H    H     Yes  0.533001  0.225918  0.241077  \n",
       "371      A    D      No  0.460841  0.263152  0.276006  \n",
       "372      H    H     Yes  0.888599  0.084093  0.026962  \n",
       "373      A    A     Yes  0.062653  0.138042  0.799239  \n",
       "374      D    D     Yes  0.474692  0.219747  0.305554  \n",
       "375      H    H     Yes  0.769684  0.160951  0.069341  \n",
       "376      H    H     Yes  0.672432  0.208757  0.118805  \n",
       "377      A    D      No  0.496391  0.277415  0.226194  \n",
       "378      H    D      No  0.368164  0.265662  0.366175  \n",
       "379      A    A     Yes  0.166696  0.202521  0.630770  "
      ]
     },
     "execution_count": 33,
     "metadata": {},
     "output_type": "execute_result"
    }
   ],
   "source": [
    "epl_1617_final"
   ]
  },
  {
   "cell_type": "markdown",
   "metadata": {},
   "source": [
    "It is important to note that the predicted outcome used is not the result (W,D,L) with the highest probability but the most likely scoreline. For example, look at the Burnley v West Ham match in the second row. The Draw probability is actually the lowest of all the result probabilities, but we predicted a Draw because the most likely scoreline (just about) was 1-1 at around 12.5%."
   ]
  },
  {
   "cell_type": "markdown",
   "metadata": {},
   "source": [
    "## Improving the model"
   ]
  },
  {
   "cell_type": "markdown",
   "metadata": {},
   "source": [
    "As discussed near the beginning of this notebook, the Poisson model relies on a number of assumptions, some of which are broken in predicting football. Here are a few things that could be considered to improve the model:\n",
    "- Are more goals scored in certain periods of the game, e.g. near the end of each half? A basic attempt at this could look at first half and second half scorelines and see if more goals are scored, on average, in a particular half.\n",
    "- The impact of gamestate on scoring.\n",
    "- Including the recent form of the teams, perhaps by weighting recent games more heavily.\n",
    "- Using a more complex model than Poisson."
   ]
  }
 ],
 "metadata": {
  "kernelspec": {
   "display_name": "Python 3",
   "language": "python",
   "name": "python3"
  },
  "language_info": {
   "codemirror_mode": {
    "name": "ipython",
    "version": 3
   },
   "file_extension": ".py",
   "mimetype": "text/x-python",
   "name": "python",
   "nbconvert_exporter": "python",
   "pygments_lexer": "ipython3",
   "version": "3.7.6"
  }
 },
 "nbformat": 4,
 "nbformat_minor": 4
}
