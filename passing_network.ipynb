{
 "cells": [
  {
   "cell_type": "code",
   "execution_count": 312,
   "metadata": {},
   "outputs": [],
   "source": [
    "import sys, os\n",
    "sys.path.append(os.path.abspath(\"modules\"))\n",
    "import numpy as np\n",
    "import matplotlib.pyplot as plt\n",
    "import pandas as pd\n",
    "#from highlight_text.htext import htext, fig_htext\n",
    "\n",
    "import importing_sb as imsb\n",
    "import draw_pitch as dp\n",
    "\n",
    "%matplotlib inline"
   ]
  },
  {
   "cell_type": "code",
   "execution_count": 3,
   "metadata": {},
   "outputs": [],
   "source": [
    "data_dir = 'data/open-data/data/'"
   ]
  },
  {
   "cell_type": "code",
   "execution_count": 4,
   "metadata": {},
   "outputs": [],
   "source": [
    "comp_data = imsb.open_data(data_dir + 'competitions.json')"
   ]
  },
  {
   "cell_type": "code",
   "execution_count": null,
   "metadata": {},
   "outputs": [],
   "source": [
    "# comp_id = 11 is La Liga, season_id = 4 is 18/19"
   ]
  },
  {
   "cell_type": "code",
   "execution_count": 14,
   "metadata": {},
   "outputs": [],
   "source": [
    "match_data = sorted(imsb.open_data(data_dir + 'matches/11/4.json'), key = lambda x: x['match_date'])"
   ]
  },
  {
   "cell_type": "code",
   "execution_count": 25,
   "metadata": {},
   "outputs": [],
   "source": [
    "event_data = []\n",
    "lineup_data =[]\n",
    "for match in match_data:\n",
    "    event_data.append(imsb.open_data(data_dir + 'events/{}.json'.format(match['match_id'])))\n",
    "    lineup_data.append(imsb.open_data(data_dir + 'lineups/{}.json'.format(match['match_id'])))"
   ]
  },
  {
   "cell_type": "code",
   "execution_count": 27,
   "metadata": {},
   "outputs": [],
   "source": [
    "nicknames = {}\n",
    "for match in lineup_data:\n",
    "    for team in match:\n",
    "        if team['team_name'] == 'Barcelona':\n",
    "            for players in team['lineup']:\n",
    "                if players['player_nickname'] == None:\n",
    "                    nicknames[str(players['player_name'])] = str(players['player_name'])\n",
    "                else:\n",
    "                    nicknames[str(players['player_name'])] = str(players['player_nickname'])"
   ]
  },
  {
   "cell_type": "markdown",
   "metadata": {},
   "source": [
    "To begin I will use the first match of the of the La Liga 18/19 season for testing."
   ]
  },
  {
   "cell_type": "code",
   "execution_count": 361,
   "metadata": {},
   "outputs": [],
   "source": [
    "# Find the starting 11\n",
    "for i in range(2):\n",
    "    if event_data[0][i]['team']['name'] == 'Barcelona':\n",
    "        players = [player['player']['name'] for player in event_data[0][i]['tactics']['lineup']]"
   ]
  },
  {
   "cell_type": "code",
   "execution_count": 362,
   "metadata": {},
   "outputs": [],
   "source": [
    "df = imsb.get_pass(event_data[0])\n",
    "df['y'] = df['y'].apply(lambda y: 80-y) # Flipping y coord for plotting\n",
    "df = df[df['outcome'] == 'Complete'] # Taking only complete passes\n",
    "df = df[df['pass_type'] == 'Standard'] # Only standard, open play passes\n",
    "df = df[df['team'] == 'Barcelona'] # Only Barca passes\n",
    "df = df[df['player'].isin(players)] # keep passers only in starting 11\n",
    "df = df[df['recipient'].isin(players)] # keep recipients only in starting 11\n",
    "df.drop(['index','event_id','minute','second','type','duration','cross','cutback','switch','technique'],axis=1,\n",
    "       inplace=True)"
   ]
  },
  {
   "cell_type": "code",
   "execution_count": 363,
   "metadata": {},
   "outputs": [
    {
     "data": {
      "text/plain": [
       "Index(['period', 'pos_team', 'play_pattern', 'team', 'player', 'x', 'y',\n",
       "       'end_x', 'end_y', 'length', 'angle', 'height', 'recipient',\n",
       "       'under_pressure', 'shot_assist', 'goal_assist', 'xA', 'body_part',\n",
       "       'pass_type', 'outcome', 'progressive'],\n",
       "      dtype='object')"
      ]
     },
     "execution_count": 363,
     "metadata": {},
     "output_type": "execute_result"
    }
   ],
   "source": [
    "df.columns"
   ]
  },
  {
   "cell_type": "markdown",
   "metadata": {},
   "source": [
    "Get average player positions of the starting 11 using the positions the played and received passes."
   ]
  },
  {
   "cell_type": "code",
   "execution_count": 364,
   "metadata": {},
   "outputs": [],
   "source": [
    "# Create df where index is player name with average x and y columns\n",
    "x_list = []\n",
    "y_list = []\n",
    "player_loc = pd.DataFrame(index=players)\n",
    "for player in players:\n",
    "    loc = df[(df['player'] == player)|(df['recipient'] == player)][['x','y']].mean()\n",
    "    x_list.append(loc['x'])\n",
    "    y_list.append(loc['y'])\n",
    "player_loc['x'] = x_list\n",
    "player_loc['y'] = y_list"
   ]
  },
  {
   "cell_type": "markdown",
   "metadata": {},
   "source": [
    "## Separating pass amounts by passer and receiver"
   ]
  },
  {
   "cell_type": "code",
   "execution_count": 365,
   "metadata": {},
   "outputs": [],
   "source": [
    "df_player = df.set_index(['player','recipient']).sort_index()"
   ]
  },
  {
   "cell_type": "code",
   "execution_count": 366,
   "metadata": {},
   "outputs": [],
   "source": [
    "df_player.loc[players[0],players[2]];"
   ]
  },
  {
   "cell_type": "code",
   "execution_count": 367,
   "metadata": {},
   "outputs": [],
   "source": [
    "df_player = df_player.groupby(['player','recipient']).size()"
   ]
  },
  {
   "cell_type": "code",
   "execution_count": 369,
   "metadata": {},
   "outputs": [
    {
     "data": {
      "text/plain": [
       "recipient\n",
       "Gerard Piqué Bernabéu             6\n",
       "Jordi Alba Ramos                  5\n",
       "Lionel Andrés Messi Cuccittini    1\n",
       "Luis Alberto Suárez Díaz          1\n",
       "Samuel Yves Umtiti                2\n",
       "Sergi Roberto Carnicer            1\n",
       "Sergio Busquets i Burgos          2\n",
       "dtype: int64"
      ]
     },
     "execution_count": 369,
     "metadata": {},
     "output_type": "execute_result"
    }
   ],
   "source": [
    "df_player.loc[players[0]]"
   ]
  },
  {
   "cell_type": "code",
   "execution_count": 370,
   "metadata": {},
   "outputs": [
    {
     "data": {
      "text/plain": [
       "player                    recipient                     \n",
       "Gerard Piqué Bernabéu     Ivan Rakitić                      10\n",
       "                          Jordi Alba Ramos                   4\n",
       "                          Lionel Andrés Messi Cuccittini     6\n",
       "                          Luis Alberto Suárez Díaz           1\n",
       "                          Marc-André ter Stegen              3\n",
       "                                                            ..\n",
       "Sergio Busquets i Burgos  Luis Alberto Suárez Díaz           2\n",
       "                          Nélson Cabral Semedo               4\n",
       "                          Ousmane Dembélé                    6\n",
       "                          Samuel Yves Umtiti                 3\n",
       "                          Sergi Roberto Carnicer             7\n",
       "Length: 89, dtype: int64"
      ]
     },
     "execution_count": 370,
     "metadata": {},
     "output_type": "execute_result"
    }
   ],
   "source": [
    "df_player"
   ]
  },
  {
   "cell_type": "markdown",
   "metadata": {},
   "source": [
    "## Using total passes between players"
   ]
  },
  {
   "cell_type": "markdown",
   "metadata": {},
   "source": [
    "For this plot I will use the total amount of passes between pairs of players, disregarding the specifics of passer and receiver."
   ]
  },
  {
   "cell_type": "code",
   "execution_count": 414,
   "metadata": {},
   "outputs": [],
   "source": [
    "player_list = []\n",
    "player1 = []\n",
    "player2 = []\n",
    "total = []\n",
    "for i in players:\n",
    "    for j in players:\n",
    "        if j in player_list:\n",
    "            continue\n",
    "        if i == j:\n",
    "            continue\n",
    "        if j in df_player.loc[i].index and i in df_player.loc[j].index:\n",
    "            player1.append(i)\n",
    "            player2.append(j)\n",
    "            total.append(df_player.loc[i,j]+df_player.loc[j,i])\n",
    "        elif j in df_player.loc[i].index and i not in df_player.loc[j].index:\n",
    "            player1.append(i)\n",
    "            player2.append(j)\n",
    "            total.append(df_player.loc[i,j])\n",
    "        elif j not in df_player.loc[i].index and i in df_player.loc[j].index:\n",
    "            player1.append(i)\n",
    "            player2.append(j)\n",
    "            total.append(df_player.loc[j,i])\n",
    "            \n",
    "    player_list.append(i)"
   ]
  },
  {
   "cell_type": "code",
   "execution_count": 422,
   "metadata": {},
   "outputs": [],
   "source": [
    "df_total = pd.DataFrame({'player1':player1,'player2':player2,'total':total})"
   ]
  },
  {
   "cell_type": "code",
   "execution_count": 465,
   "metadata": {},
   "outputs": [],
   "source": [
    "def change_range(value,old_range,new_range):\n",
    "    return ((value - old_range[0])/(old_range[1]-old_range[0])) * (new_range[1]-new_range[0]) + new_range[0]"
   ]
  },
  {
   "cell_type": "code",
   "execution_count": 483,
   "metadata": {},
   "outputs": [
    {
     "data": {
      "image/png": "[encoded data removed]",
      "text/plain": [
       "<Figure size 864x576 with 1 Axes>"
      ]
     },
     "metadata": {
      "needs_background": "light"
     },
     "output_type": "display_data"
    }
   ],
   "source": [
    "max_pair_count = df_total['total'].max()\n",
    "max_edge_width = 5\n",
    "min_edge_width = 0.1\n",
    "\n",
    "fig,ax = dp.draw_pitch('w','k','h','f',alpha=0.3)\n",
    "for i,row in df_total.iterrows():\n",
    "    p1 = row['player1']\n",
    "    p2 = row['player2']\n",
    "    loc = [[player_loc.loc[p1]['x'],player_loc.loc[p2]['x']],[player_loc.loc[p1]['y'],player_loc.loc[p2]['y']]]\n",
    "    num_passes = row['total']\n",
    "    # Plot nodes\n",
    "    ax.plot(loc[0],loc[1],'.',markersize=40,c='r',mec='k',zorder=10)\n",
    "    # Plot edges\n",
    "    line_width = change_range(num_passes,(0,max_pair_count),(min_edge_width,max_edge_width))\n",
    "    ax.plot(loc[0],loc[1],'k-',lw=line_width,zorder=9)"
   ]
  },
  {
   "cell_type": "code",
   "execution_count": 401,
   "metadata": {},
   "outputs": [
    {
     "data": {
      "text/plain": [
       "player                  recipient            \n",
       "Gerard Piqué Bernabéu   Marc-André ter Stegen    3\n",
       "Samuel Yves Umtiti      Marc-André ter Stegen    4\n",
       "Sergi Roberto Carnicer  Marc-André ter Stegen    2\n",
       "dtype: int64"
      ]
     },
     "execution_count": 401,
     "metadata": {},
     "output_type": "execute_result"
    }
   ],
   "source": [
    "df_player[df_player.index.get_level_values('recipient') == players[0]]"
   ]
  }
 ],
 "metadata": {
  "kernelspec": {
   "display_name": "Python 3",
   "language": "python",
   "name": "python3"
  },
  "language_info": {
   "codemirror_mode": {
    "name": "ipython",
    "version": 3
   },
   "file_extension": ".py",
   "mimetype": "text/x-python",
   "name": "python",
   "nbconvert_exporter": "python",
   "pygments_lexer": "ipython3",
   "version": "3.7.6"
  }
 },
 "nbformat": 4,
 "nbformat_minor": 4
}
