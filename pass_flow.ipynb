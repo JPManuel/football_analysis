{
 "cells": [
  {
   "cell_type": "markdown",
   "metadata": {},
   "source": [
    "# Pass Flow Map"
   ]
  },
  {
   "cell_type": "markdown",
   "metadata": {},
   "source": [
    "Creating a map to show the flow of passes."
   ]
  },
  {
   "cell_type": "code",
   "execution_count": 1,
   "metadata": {},
   "outputs": [],
   "source": [
    "import sys,os\n",
    "sys.path.append(os.path.abspath(\"modules\"))\n",
    "import numpy as np\n",
    "import pandas as pd\n",
    "import matplotlib.pyplot as plt\n",
    "from scipy.stats import binned_statistic_2d, circmean\n",
    "\n",
    "import importing_sb as imsb\n",
    "import draw_pitch as dp\n",
    "\n",
    "plt.style.use('football')"
   ]
  },
  {
   "cell_type": "code",
   "execution_count": 2,
   "metadata": {},
   "outputs": [],
   "source": [
    "data_dir = 'data/open-data/data/'\n",
    "event_data = imsb.open_data(data_dir + 'events/15946.json')\n",
    "df = imsb.get_pass(event_data)"
   ]
  },
  {
   "cell_type": "markdown",
   "metadata": {},
   "source": [
    "Focusing on Barcelona's passes and flipping the y-coordinate for plotting."
   ]
  },
  {
   "cell_type": "code",
   "execution_count": 4,
   "metadata": {},
   "outputs": [],
   "source": [
    "df = df[df['team'] == 'Barcelona'].copy()\n",
    "df['y'] = df['y'].apply(lambda y: 80-y)\n",
    "df['end_y'] = df['end_y'].apply(lambda y: 80-y)"
   ]
  },
  {
   "cell_type": "code",
   "execution_count": 5,
   "metadata": {},
   "outputs": [
    {
     "data": {
      "text/html": [
       "<div>\n",
       "<style scoped>\n",
       "    .dataframe tbody tr th:only-of-type {\n",
       "        vertical-align: middle;\n",
       "    }\n",
       "\n",
       "    .dataframe tbody tr th {\n",
       "        vertical-align: top;\n",
       "    }\n",
       "\n",
       "    .dataframe thead th {\n",
       "        text-align: right;\n",
       "    }\n",
       "</style>\n",
       "<table border=\"1\" class=\"dataframe\">\n",
       "  <thead>\n",
       "    <tr style=\"text-align: right;\">\n",
       "      <th></th>\n",
       "      <th>index</th>\n",
       "      <th>event_id</th>\n",
       "      <th>period</th>\n",
       "      <th>minute</th>\n",
       "      <th>second</th>\n",
       "      <th>type</th>\n",
       "      <th>pos_team</th>\n",
       "      <th>play_pattern</th>\n",
       "      <th>team</th>\n",
       "      <th>player</th>\n",
       "      <th>...</th>\n",
       "      <th>cutback</th>\n",
       "      <th>switch</th>\n",
       "      <th>shot_assist</th>\n",
       "      <th>goal_assist</th>\n",
       "      <th>xA</th>\n",
       "      <th>body_part</th>\n",
       "      <th>pass_type</th>\n",
       "      <th>outcome</th>\n",
       "      <th>technique</th>\n",
       "      <th>progressive</th>\n",
       "    </tr>\n",
       "  </thead>\n",
       "  <tbody>\n",
       "    <tr>\n",
       "      <th>2</th>\n",
       "      <td>10</td>\n",
       "      <td>f1cc47d6-4b19-45a6-beb9-33d67fc83f4b</td>\n",
       "      <td>1</td>\n",
       "      <td>0</td>\n",
       "      <td>6</td>\n",
       "      <td>Pass</td>\n",
       "      <td>Barcelona</td>\n",
       "      <td>Regular Play</td>\n",
       "      <td>Barcelona</td>\n",
       "      <td>Sergio Busquets i Burgos</td>\n",
       "      <td>...</td>\n",
       "      <td>False</td>\n",
       "      <td>False</td>\n",
       "      <td>None</td>\n",
       "      <td>None</td>\n",
       "      <td>NaN</td>\n",
       "      <td>Head</td>\n",
       "      <td>Recovery</td>\n",
       "      <td>Complete</td>\n",
       "      <td>None</td>\n",
       "      <td>False</td>\n",
       "    </tr>\n",
       "    <tr>\n",
       "      <th>3</th>\n",
       "      <td>12</td>\n",
       "      <td>f774571f-4b65-43a0-9bfc-6384948d1b82</td>\n",
       "      <td>1</td>\n",
       "      <td>0</td>\n",
       "      <td>8</td>\n",
       "      <td>Pass</td>\n",
       "      <td>Barcelona</td>\n",
       "      <td>Regular Play</td>\n",
       "      <td>Barcelona</td>\n",
       "      <td>Ivan Rakitić</td>\n",
       "      <td>...</td>\n",
       "      <td>False</td>\n",
       "      <td>False</td>\n",
       "      <td>None</td>\n",
       "      <td>None</td>\n",
       "      <td>NaN</td>\n",
       "      <td>Head</td>\n",
       "      <td>Standard</td>\n",
       "      <td>Complete</td>\n",
       "      <td>None</td>\n",
       "      <td>False</td>\n",
       "    </tr>\n",
       "    <tr>\n",
       "      <th>4</th>\n",
       "      <td>16</td>\n",
       "      <td>46f0e871-3e72-4817-9a53-af27583ba6c1</td>\n",
       "      <td>1</td>\n",
       "      <td>0</td>\n",
       "      <td>10</td>\n",
       "      <td>Pass</td>\n",
       "      <td>Barcelona</td>\n",
       "      <td>Regular Play</td>\n",
       "      <td>Barcelona</td>\n",
       "      <td>Ousmane Dembélé</td>\n",
       "      <td>...</td>\n",
       "      <td>False</td>\n",
       "      <td>False</td>\n",
       "      <td>None</td>\n",
       "      <td>None</td>\n",
       "      <td>NaN</td>\n",
       "      <td>Right Foot</td>\n",
       "      <td>Standard</td>\n",
       "      <td>Complete</td>\n",
       "      <td>None</td>\n",
       "      <td>False</td>\n",
       "    </tr>\n",
       "    <tr>\n",
       "      <th>5</th>\n",
       "      <td>18</td>\n",
       "      <td>719bbdb1-8743-4c95-b5a5-b61a0c392741</td>\n",
       "      <td>1</td>\n",
       "      <td>0</td>\n",
       "      <td>11</td>\n",
       "      <td>Pass</td>\n",
       "      <td>Barcelona</td>\n",
       "      <td>Regular Play</td>\n",
       "      <td>Barcelona</td>\n",
       "      <td>Jordi Alba Ramos</td>\n",
       "      <td>...</td>\n",
       "      <td>False</td>\n",
       "      <td>False</td>\n",
       "      <td>None</td>\n",
       "      <td>None</td>\n",
       "      <td>NaN</td>\n",
       "      <td>Left Foot</td>\n",
       "      <td>Standard</td>\n",
       "      <td>Incomplete</td>\n",
       "      <td>None</td>\n",
       "      <td>True</td>\n",
       "    </tr>\n",
       "    <tr>\n",
       "      <th>7</th>\n",
       "      <td>26</td>\n",
       "      <td>df65f591-1131-4565-ad3c-7295ccdf3f26</td>\n",
       "      <td>1</td>\n",
       "      <td>0</td>\n",
       "      <td>30</td>\n",
       "      <td>Pass</td>\n",
       "      <td>Barcelona</td>\n",
       "      <td>Regular Play</td>\n",
       "      <td>Barcelona</td>\n",
       "      <td>Marc-André ter Stegen</td>\n",
       "      <td>...</td>\n",
       "      <td>False</td>\n",
       "      <td>False</td>\n",
       "      <td>None</td>\n",
       "      <td>None</td>\n",
       "      <td>NaN</td>\n",
       "      <td>Keeper Arm</td>\n",
       "      <td>Standard</td>\n",
       "      <td>Complete</td>\n",
       "      <td>None</td>\n",
       "      <td>False</td>\n",
       "    </tr>\n",
       "  </tbody>\n",
       "</table>\n",
       "<p>5 rows × 31 columns</p>\n",
       "</div>"
      ],
      "text/plain": [
       "   index                              event_id  period  minute  second  type  \\\n",
       "2     10  f1cc47d6-4b19-45a6-beb9-33d67fc83f4b       1       0       6  Pass   \n",
       "3     12  f774571f-4b65-43a0-9bfc-6384948d1b82       1       0       8  Pass   \n",
       "4     16  46f0e871-3e72-4817-9a53-af27583ba6c1       1       0      10  Pass   \n",
       "5     18  719bbdb1-8743-4c95-b5a5-b61a0c392741       1       0      11  Pass   \n",
       "7     26  df65f591-1131-4565-ad3c-7295ccdf3f26       1       0      30  Pass   \n",
       "\n",
       "    pos_team  play_pattern       team                    player  ...  cutback  \\\n",
       "2  Barcelona  Regular Play  Barcelona  Sergio Busquets i Burgos  ...    False   \n",
       "3  Barcelona  Regular Play  Barcelona              Ivan Rakitić  ...    False   \n",
       "4  Barcelona  Regular Play  Barcelona           Ousmane Dembélé  ...    False   \n",
       "5  Barcelona  Regular Play  Barcelona          Jordi Alba Ramos  ...    False   \n",
       "7  Barcelona  Regular Play  Barcelona     Marc-André ter Stegen  ...    False   \n",
       "\n",
       "   switch  shot_assist  goal_assist  xA   body_part pass_type     outcome  \\\n",
       "2   False         None         None NaN        Head  Recovery    Complete   \n",
       "3   False         None         None NaN        Head  Standard    Complete   \n",
       "4   False         None         None NaN  Right Foot  Standard    Complete   \n",
       "5   False         None         None NaN   Left Foot  Standard  Incomplete   \n",
       "7   False         None         None NaN  Keeper Arm  Standard    Complete   \n",
       "\n",
       "  technique  progressive  \n",
       "2      None        False  \n",
       "3      None        False  \n",
       "4      None        False  \n",
       "5      None         True  \n",
       "7      None        False  \n",
       "\n",
       "[5 rows x 31 columns]"
      ]
     },
     "execution_count": 5,
     "metadata": {},
     "output_type": "execute_result"
    }
   ],
   "source": [
    "df.head()"
   ]
  },
  {
   "cell_type": "markdown",
   "metadata": {},
   "source": [
    "There are two approaches to plotting the pass flow map - use StatsBomb's provided *angle* value for the passes or calculate the angle ourselves. The second approach is more general but firstly I will demonstrate the concept using the StatsBomb provided *angle* value."
   ]
  },
  {
   "cell_type": "code",
   "execution_count": 203,
   "metadata": {},
   "outputs": [],
   "source": [
    "vals, x_edge, y_edge, binnum = binned_statistic_2d(df['x'].values,df['y'].values, values=df['x'].values,\n",
    "                                                   bins = (6,4), range = [[0,120],[0,80]],\n",
    "                                                   statistic='count', expand_binnumbers=True)"
   ]
  },
  {
   "cell_type": "code",
   "execution_count": 204,
   "metadata": {},
   "outputs": [
    {
     "data": {
      "text/plain": [
       "array([[ 6., 17., 10., 12.],\n",
       "       [16., 18., 19., 16.],\n",
       "       [26., 55., 42., 37.],\n",
       "       [67., 67., 66., 79.],\n",
       "       [69., 53., 68., 81.],\n",
       "       [21., 14., 12., 19.]])"
      ]
     },
     "execution_count": 204,
     "metadata": {},
     "output_type": "execute_result"
    }
   ],
   "source": [
    "vals"
   ]
  },
  {
   "cell_type": "markdown",
   "metadata": {},
   "source": [
    "As we see, the *x* values are rows and *y* the columns so this needs to be transposed to be plotted on a horizontal pitch."
   ]
  },
  {
   "cell_type": "code",
   "execution_count": 205,
   "metadata": {},
   "outputs": [],
   "source": [
    "vals = vals.T"
   ]
  },
  {
   "cell_type": "code",
   "execution_count": 206,
   "metadata": {},
   "outputs": [
    {
     "data": {
      "text/plain": [
       "array([[ 6., 16., 26., 67., 69., 21.],\n",
       "       [17., 18., 55., 67., 53., 14.],\n",
       "       [10., 19., 42., 66., 68., 12.],\n",
       "       [12., 16., 37., 79., 81., 19.]])"
      ]
     },
     "execution_count": 206,
     "metadata": {},
     "output_type": "execute_result"
    }
   ],
   "source": [
    "vals"
   ]
  },
  {
   "cell_type": "markdown",
   "metadata": {},
   "source": [
    "Then find create the grid and the midpoints."
   ]
  },
  {
   "cell_type": "code",
   "execution_count": 207,
   "metadata": {},
   "outputs": [],
   "source": [
    "x_grid, y_grid = np.meshgrid(x_edge,y_edge)"
   ]
  },
  {
   "cell_type": "code",
   "execution_count": 208,
   "metadata": {},
   "outputs": [],
   "source": [
    "x_mid, y_mid = np.meshgrid(x_edge[:-1] + np.diff(x_edge) / 2, y_edge[:-1] + np.diff(y_edge) / 2)"
   ]
  },
  {
   "cell_type": "markdown",
   "metadata": {},
   "source": [
    "Now find the average angle in each bin. *scipy.stats* has the useful `circmean` function for finding the mean of angles. StatsBomb measure angle as 0 being the attacking direction then negative radians in the counter-clockwise direction and positive radians in the clockwise direction. However, when plotting using `quiver` it can take a list of *angle* values for each arrow and this angle is measured in degrees positvely in the counter-clockwise direction from the horizontal axis. Therefore, when plotting a horizontal pitch, the StatsBomb angles can easily be converted to those appropriate for `quiver` by multiplying by $-1$ and then converting to degrees."
   ]
  },
  {
   "cell_type": "code",
   "execution_count": 209,
   "metadata": {},
   "outputs": [],
   "source": [
    "stats, *_ = binned_statistic_2d(df['x'].values,df['y'].values, values=df['angle'].values*-1,\n",
    "                                                   bins = (6,4), range = [[0,120],[0,80]],\n",
    "                                                   statistic=circmean, expand_binnumbers=True)"
   ]
  },
  {
   "cell_type": "markdown",
   "metadata": {},
   "source": [
    "Transpose and convert to degrees."
   ]
  },
  {
   "cell_type": "code",
   "execution_count": 210,
   "metadata": {},
   "outputs": [],
   "source": [
    "angles = np.degrees(stats.T)"
   ]
  },
  {
   "cell_type": "code",
   "execution_count": 211,
   "metadata": {},
   "outputs": [
    {
     "data": {
      "text/plain": [
       "array([[ 65.94069029,  72.74331004,  86.2038787 ,  53.42989294,\n",
       "        103.57175403, 139.07110266],\n",
       "       [ 23.32067423,  63.4874024 ,  29.49511425,  24.93026552,\n",
       "         34.8951155 ,  37.78124959],\n",
       "       [ 15.36086629, 345.14935905,   7.40475689, 351.98023197,\n",
       "        322.14366972, 293.22302459],\n",
       "       [276.90672175, 278.87670784, 299.27633002, 299.40014149,\n",
       "        250.24963094, 244.88939895]])"
      ]
     },
     "execution_count": 211,
     "metadata": {},
     "output_type": "execute_result"
    }
   ],
   "source": [
    "angles"
   ]
  },
  {
   "cell_type": "markdown",
   "metadata": {},
   "source": [
    "In the case where no passes are played from a zone, the length (controlled here by the *U* vector) is set to zero such that no arrow is seen."
   ]
  },
  {
   "cell_type": "code",
   "execution_count": 212,
   "metadata": {},
   "outputs": [],
   "source": [
    "locs = np.where(vals == 0)\n",
    "locs_list = list(zip(locs[0], locs[1]))"
   ]
  },
  {
   "cell_type": "code",
   "execution_count": 213,
   "metadata": {},
   "outputs": [],
   "source": [
    "U = np.full((x_mid.shape[0],x_mid.shape[1]), 0.042)\n",
    "for i in locs_list:\n",
    "    U[i] = 0"
   ]
  },
  {
   "cell_type": "markdown",
   "metadata": {},
   "source": [
    "Finally, plot the pass flow map."
   ]
  },
  {
   "cell_type": "code",
   "execution_count": 323,
   "metadata": {},
   "outputs": [
    {
     "data": {
      "image/png": "[encoded data removed]",
      "text/plain": [
       "<Figure size 576x384 with 1 Axes>"
      ]
     },
     "metadata": {
      "needs_background": "light"
     },
     "output_type": "display_data"
    }
   ],
   "source": [
    "fig, ax = dp.draw_pitch('w','k','h','f',fig_width=8)\n",
    "\n",
    "ax.quiver(x_mid,y_mid,U,0, \n",
    "          vals, angles=angles, scale=1, scale_units='width', cmap='Reds')\n",
    "ax.imshow(vals, origin='lower', extent=(0,120,0,80), alpha=0.8, cmap='Blues')\n",
    "ax.set_xlim(0,120)\n",
    "ax.set_ylim(0,80)\n",
    "\n",
    "plt.show()"
   ]
  },
  {
   "cell_type": "markdown",
   "metadata": {},
   "source": [
    "## Create function for plotting pass flow maps"
   ]
  },
  {
   "cell_type": "code",
   "execution_count": 313,
   "metadata": {},
   "outputs": [],
   "source": [
    "def calc_angle(xstart, ystart, xend, yend):\n",
    "    xstart, ystart, xend, yend = np.array(xstart), np.array(ystart), np.array(xend), np.array(yend)\n",
    "    xdist = xend - xstart\n",
    "    ydist = yend - ystart\n",
    "    angle = np.arctan2(ydist, xdist)\n",
    "    return angle"
   ]
  },
  {
   "cell_type": "code",
   "execution_count": 324,
   "metadata": {},
   "outputs": [],
   "source": [
    "def pass_flow(xstart, ystart, xend, yend, angles=None, bins=(6,4), length=None, arr_cmap='viridis', bin_cmap='Blues'):\n",
    "    \"\"\"\n",
    "    Parameters\n",
    "    ----------\n",
    "    angles : array-like\n",
    "        Must be the same size as the xstart and ystart arrays. Measured in degrees, 0 is pointing \"eastwards\" and \n",
    "        counting counter-clockwise. Accepts negative angle values which count clockwise. If using StatsBomb data, \n",
    "        simply multiply their angle value by -1 and change to degrees.\n",
    "    \"\"\"\n",
    "    if angles is None:\n",
    "        if xend is None or yend is None:\n",
    "            raise ValueError(\"Provide array-like values for xend and yend.\")\n",
    "        \n",
    "        counts, xedge, yedge, bin_num = binned_statistic_2d(xstart, ystart, values=xstart, bins = bins, \n",
    "                                                             range = [[0,120],[0,80]], statistic='count', \n",
    "                                                             expand_binnumbers=True)\n",
    "        counts = counts.T # Make x correspond to columns for horizontal pitch plotting\n",
    "        \n",
    "        angles = calc_angle(xstart, ystart, xend, yend)\n",
    "        angles_bin, *_ = binned_statistic_2d(xstart, ystart, values=angles, bins=bins, range=[[0,120],[0,80]], \n",
    "                                             statistic=circmean, expand_binnumbers=True)\n",
    "        angles_bin = angles_bin.T\n",
    "        \n",
    "        # If length isn't specified default to half of the shortest side of the bin so arrow doesn't extend beyond bin\n",
    "        if length is None:\n",
    "            if np.diff(xedge)[0] <= np.diff(yedge)[0]:\n",
    "                length = np.diff(xedge)[0] / 2\n",
    "            else:\n",
    "                length = np.diff(yedge)[0] / 2\n",
    "        \n",
    "        xdiff = np.cos(angles_bin) * length\n",
    "        ydiff = np.sin(angles_bin) * length\n",
    "        \n",
    "        # Create the grid and the grid of bin centres\n",
    "        x_grid, y_grid = np.meshgrid(xedge,yedge)\n",
    "        x_mid, y_mid = np.meshgrid(xedge[:-1] + np.diff(xedge) / 2, yedge[:-1] + np.diff(yedge) / 2)\n",
    "        \n",
    "        angles_bin = np.degrees(angles_bin) # Change to degrees for quiver plotting\n",
    "        ax.quiver(x_mid, y_mid, xdiff, ydiff, counts, angles='xy', scale=1, scale_units='xy', cmap=arr_cmap)\n",
    "        ax.imshow(counts, origin='lower', extent=(0,120,0,80), alpha=0.8, cmap=bin_cmap)\n",
    "    \n",
    "    else:\n",
    "        counts, xedge, yedge, bin_num = binned_statistic_2d(xstart, ystart, values=xstart, bins = bins, \n",
    "                                                             range = [[0,120],[0,80]], statistic='count', \n",
    "                                                             expand_binnumbers=True)\n",
    "        counts = counts.T # Make x correspond to columns for horizontal pitch plotting\n",
    "\n",
    "        angles_bin, *_ = binned_statistic_2d(xstart, ystart, values=angles, bins = bins, range = [[0,120],[0,80]], \n",
    "                                    statistic=circmean, expand_binnumbers=True)\n",
    "        angles_bin = np.degrees(angles_bin.T)\n",
    "\n",
    "        # Create the grid and the grid of bin centres\n",
    "        x_grid, y_grid = np.meshgrid(xedge,yedge)\n",
    "        x_mid, y_mid = np.meshgrid(xedge[:-1] + np.diff(xedge) / 2, yedge[:-1] + np.diff(yedge) / 2)\n",
    "\n",
    "        # If length is not specified then set it to be half bin-width\n",
    "        if length is None:\n",
    "            length = 1 / (2*bins[0])\n",
    "\n",
    "        # When providing the angles directly the length of the arrows is simply determined by the U vector\n",
    "        U = np.full((x_mid.shape[0],x_mid.shape[1]), length)\n",
    "\n",
    "        # Setting arrow length to zero in bins where there were no passes\n",
    "        zero_locs = np.where(counts == 0)\n",
    "        zeros_list = list(zip(zero_locs[0], zero_locs[1]))\n",
    "        for i in zeros_list:\n",
    "            U[i] = 0\n",
    "\n",
    "        ax.quiver(x_mid, y_mid, U, 0, counts, angles=angles_bin, scale=1, scale_units='width', cmap=arr_cmap, zorder=10)\n",
    "        ax.imshow(counts, origin='lower', extent=(0,120,0,80), alpha=0.8, cmap=bin_cmap)\n",
    "\n",
    "    plt.show()\n",
    "    \n",
    "    return ax"
   ]
  },
  {
   "cell_type": "markdown",
   "metadata": {},
   "source": [
    "Providing array of angle values (as one could do with the StatsBomb data):"
   ]
  },
  {
   "cell_type": "code",
   "execution_count": 325,
   "metadata": {},
   "outputs": [
    {
     "data": {
      "image/png": "[encoded data removed]",
      "text/plain": [
       "<Figure size 576x384 with 1 Axes>"
      ]
     },
     "metadata": {
      "needs_background": "light"
     },
     "output_type": "display_data"
    },
    {
     "data": {
      "text/plain": [
       "<matplotlib.axes._subplots.AxesSubplot at 0x7fac703d4e10>"
      ]
     },
     "execution_count": 325,
     "metadata": {},
     "output_type": "execute_result"
    }
   ],
   "source": [
    "fig, ax = dp.draw_pitch('w','k','h','f',fig_width=8)\n",
    "pass_flow(df['x'].values, df['y'].values, df['end_x'].values, df['end_y'].values, angles=df['angle'].values*-1, \n",
    "          bins=(6,5))"
   ]
  },
  {
   "cell_type": "markdown",
   "metadata": {},
   "source": [
    "Just providing starting and ending coordinates and calculating the angles ourselves:"
   ]
  },
  {
   "cell_type": "code",
   "execution_count": 326,
   "metadata": {},
   "outputs": [
    {
     "data": {
      "image/png": "[encoded data removed]",
      "text/plain": [
       "<Figure size 576x384 with 1 Axes>"
      ]
     },
     "metadata": {
      "needs_background": "light"
     },
     "output_type": "display_data"
    },
    {
     "data": {
      "text/plain": [
       "<matplotlib.axes._subplots.AxesSubplot at 0x7fac70e5ec90>"
      ]
     },
     "execution_count": 326,
     "metadata": {},
     "output_type": "execute_result"
    }
   ],
   "source": [
    "fig, ax = dp.draw_pitch('w','k','h','f',fig_width=8)\n",
    "pass_flow(df['x'].values, df['y'].values, df['end_x'].values, df['end_y'].values, bins=(6,5))"
   ]
  },
  {
   "cell_type": "code",
   "execution_count": null,
   "metadata": {},
   "outputs": [],
   "source": []
  }
 ],
 "metadata": {
  "kernelspec": {
   "display_name": "Python 3",
   "language": "python",
   "name": "python3"
  },
  "language_info": {
   "codemirror_mode": {
    "name": "ipython",
    "version": 3
   },
   "file_extension": ".py",
   "mimetype": "text/x-python",
   "name": "python",
   "nbconvert_exporter": "python",
   "pygments_lexer": "ipython3",
   "version": "3.7.6"
  }
 },
 "nbformat": 4,
 "nbformat_minor": 4
}
